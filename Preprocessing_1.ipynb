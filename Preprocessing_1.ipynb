{
  "nbformat": 4,
  "nbformat_minor": 0,
  "metadata": {
    "colab": {
      "provenance": [],
      "collapsed_sections": [
        "TSPE14mGKHNV",
        "z85scvEND2F7"
      ],
      "include_colab_link": true
    },
    "kernelspec": {
      "name": "python3",
      "display_name": "Python 3"
    },
    "language_info": {
      "name": "python"
    }
  },
  "cells": [
    {
      "cell_type": "markdown",
      "metadata": {
        "id": "view-in-github",
        "colab_type": "text"
      },
      "source": [
        "<a href=\"https://colab.research.google.com/github/Isurika-2001/CC_PROJEKT/blob/main/Preprocessing_1.ipynb\" target=\"_parent\"><img src=\"https://colab.research.google.com/assets/colab-badge.svg\" alt=\"Open In Colab\"/></a>"
      ]
    },
    {
      "cell_type": "code",
      "source": [
        "import pandas as pd\n",
        "import seaborn as sb\n",
        "import numpy as np\n",
        "import matplotlib.pyplot as plt\n",
        "from sklearn.preprocessing import OneHotEncoder\n",
        "from sklearn.preprocessing import LabelEncoder\n",
        "from sklearn.compose import ColumnTransformer\n",
        "from sklearn.model_selection import train_test_split\n",
        "from sklearn.preprocessing import RobustScaler\n",
        "from imblearn.over_sampling import SMOTE\n",
        "from collections import Counter\n",
        "from sklearn.metrics import classification_report,accuracy_score, confusion_matrix, ConfusionMatrixDisplay, precision_score, recall_score, f1_score, matthews_corrcoef\n",
        "from sklearn.svm import SVC #import the Support Vector Classifier to implement SVM\n",
        "from sklearn.naive_bayes import GaussianNB #use GaussianNB due to continous data\n",
        "import tensorflow as tf #used for training ANN and persisting model\n",
        "import pickle #used for exporting and importing encoders, scalers."
      ],
      "metadata": {
        "id": "QJKdq3_hWAv_"
      },
      "execution_count": 51,
      "outputs": []
    },
    {
      "cell_type": "code",
      "source": [
        "from sklearn.cluster import KMeans\n",
        "from sklearn.metrics import silhouette_score\n",
        "import seaborn as sns"
      ],
      "metadata": {
        "id": "JNaO0oZsWCmP"
      },
      "execution_count": 52,
      "outputs": []
    },
    {
      "cell_type": "code",
      "source": [
        "hotel_bookings = pd.read_csv(\"/content/hotel_booking_data_cleaned.csv\") #read the csv file\n",
        "hotel_bookings.head(5) #view the first five rows"
      ],
      "metadata": {
        "colab": {
          "base_uri": "https://localhost:8080/",
          "height": 342
        },
        "id": "B9vHiVdfWCxL",
        "outputId": "50079127-a102-4ec1-f1ae-56749e6e187b"
      },
      "execution_count": 53,
      "outputs": [
        {
          "output_type": "execute_result",
          "data": {
            "text/plain": [
              "          hotel  is_canceled  lead_time  arrival_date_year arrival_date_month  \\\n",
              "0  Resort Hotel            0        342               2015               July   \n",
              "1  Resort Hotel            0        737               2015               July   \n",
              "2  Resort Hotel            0          7               2015               July   \n",
              "3  Resort Hotel            0         13               2015               July   \n",
              "4  Resort Hotel            0         14               2015               July   \n",
              "\n",
              "   arrival_date_week_number  arrival_date_day_of_month  \\\n",
              "0                        27                          1   \n",
              "1                        27                          1   \n",
              "2                        27                          1   \n",
              "3                        27                          1   \n",
              "4                        27                          1   \n",
              "\n",
              "   stays_in_weekend_nights  stays_in_week_nights  adults  ...  deposit_type  \\\n",
              "0                        0                     0       2  ...    No Deposit   \n",
              "1                        0                     0       2  ...    No Deposit   \n",
              "2                        0                     1       1  ...    No Deposit   \n",
              "3                        0                     1       1  ...    No Deposit   \n",
              "4                        0                     2       2  ...    No Deposit   \n",
              "\n",
              "   agent company days_in_waiting_list customer_type   adr  \\\n",
              "0    NaN     NaN                    0     Transient   0.0   \n",
              "1    NaN     NaN                    0     Transient   0.0   \n",
              "2    NaN     NaN                    0     Transient  75.0   \n",
              "3  304.0     NaN                    0     Transient  75.0   \n",
              "4  240.0     NaN                    0     Transient  98.0   \n",
              "\n",
              "   required_car_parking_spaces  total_of_special_requests  reservation_status  \\\n",
              "0                            0                          0           Check-Out   \n",
              "1                            0                          0           Check-Out   \n",
              "2                            0                          0           Check-Out   \n",
              "3                            0                          0           Check-Out   \n",
              "4                            0                          1           Check-Out   \n",
              "\n",
              "  reservation_status_date  \n",
              "0              01/07/2015  \n",
              "1              01/07/2015  \n",
              "2              02/07/2015  \n",
              "3              02/07/2015  \n",
              "4              03/07/2015  \n",
              "\n",
              "[5 rows x 32 columns]"
            ],
            "text/html": [
              "\n",
              "  <div id=\"df-0bd6b8b0-95a6-4070-ae1d-acb97e6a9cfc\" class=\"colab-df-container\">\n",
              "    <div>\n",
              "<style scoped>\n",
              "    .dataframe tbody tr th:only-of-type {\n",
              "        vertical-align: middle;\n",
              "    }\n",
              "\n",
              "    .dataframe tbody tr th {\n",
              "        vertical-align: top;\n",
              "    }\n",
              "\n",
              "    .dataframe thead th {\n",
              "        text-align: right;\n",
              "    }\n",
              "</style>\n",
              "<table border=\"1\" class=\"dataframe\">\n",
              "  <thead>\n",
              "    <tr style=\"text-align: right;\">\n",
              "      <th></th>\n",
              "      <th>hotel</th>\n",
              "      <th>is_canceled</th>\n",
              "      <th>lead_time</th>\n",
              "      <th>arrival_date_year</th>\n",
              "      <th>arrival_date_month</th>\n",
              "      <th>arrival_date_week_number</th>\n",
              "      <th>arrival_date_day_of_month</th>\n",
              "      <th>stays_in_weekend_nights</th>\n",
              "      <th>stays_in_week_nights</th>\n",
              "      <th>adults</th>\n",
              "      <th>...</th>\n",
              "      <th>deposit_type</th>\n",
              "      <th>agent</th>\n",
              "      <th>company</th>\n",
              "      <th>days_in_waiting_list</th>\n",
              "      <th>customer_type</th>\n",
              "      <th>adr</th>\n",
              "      <th>required_car_parking_spaces</th>\n",
              "      <th>total_of_special_requests</th>\n",
              "      <th>reservation_status</th>\n",
              "      <th>reservation_status_date</th>\n",
              "    </tr>\n",
              "  </thead>\n",
              "  <tbody>\n",
              "    <tr>\n",
              "      <th>0</th>\n",
              "      <td>Resort Hotel</td>\n",
              "      <td>0</td>\n",
              "      <td>342</td>\n",
              "      <td>2015</td>\n",
              "      <td>July</td>\n",
              "      <td>27</td>\n",
              "      <td>1</td>\n",
              "      <td>0</td>\n",
              "      <td>0</td>\n",
              "      <td>2</td>\n",
              "      <td>...</td>\n",
              "      <td>No Deposit</td>\n",
              "      <td>NaN</td>\n",
              "      <td>NaN</td>\n",
              "      <td>0</td>\n",
              "      <td>Transient</td>\n",
              "      <td>0.0</td>\n",
              "      <td>0</td>\n",
              "      <td>0</td>\n",
              "      <td>Check-Out</td>\n",
              "      <td>01/07/2015</td>\n",
              "    </tr>\n",
              "    <tr>\n",
              "      <th>1</th>\n",
              "      <td>Resort Hotel</td>\n",
              "      <td>0</td>\n",
              "      <td>737</td>\n",
              "      <td>2015</td>\n",
              "      <td>July</td>\n",
              "      <td>27</td>\n",
              "      <td>1</td>\n",
              "      <td>0</td>\n",
              "      <td>0</td>\n",
              "      <td>2</td>\n",
              "      <td>...</td>\n",
              "      <td>No Deposit</td>\n",
              "      <td>NaN</td>\n",
              "      <td>NaN</td>\n",
              "      <td>0</td>\n",
              "      <td>Transient</td>\n",
              "      <td>0.0</td>\n",
              "      <td>0</td>\n",
              "      <td>0</td>\n",
              "      <td>Check-Out</td>\n",
              "      <td>01/07/2015</td>\n",
              "    </tr>\n",
              "    <tr>\n",
              "      <th>2</th>\n",
              "      <td>Resort Hotel</td>\n",
              "      <td>0</td>\n",
              "      <td>7</td>\n",
              "      <td>2015</td>\n",
              "      <td>July</td>\n",
              "      <td>27</td>\n",
              "      <td>1</td>\n",
              "      <td>0</td>\n",
              "      <td>1</td>\n",
              "      <td>1</td>\n",
              "      <td>...</td>\n",
              "      <td>No Deposit</td>\n",
              "      <td>NaN</td>\n",
              "      <td>NaN</td>\n",
              "      <td>0</td>\n",
              "      <td>Transient</td>\n",
              "      <td>75.0</td>\n",
              "      <td>0</td>\n",
              "      <td>0</td>\n",
              "      <td>Check-Out</td>\n",
              "      <td>02/07/2015</td>\n",
              "    </tr>\n",
              "    <tr>\n",
              "      <th>3</th>\n",
              "      <td>Resort Hotel</td>\n",
              "      <td>0</td>\n",
              "      <td>13</td>\n",
              "      <td>2015</td>\n",
              "      <td>July</td>\n",
              "      <td>27</td>\n",
              "      <td>1</td>\n",
              "      <td>0</td>\n",
              "      <td>1</td>\n",
              "      <td>1</td>\n",
              "      <td>...</td>\n",
              "      <td>No Deposit</td>\n",
              "      <td>304.0</td>\n",
              "      <td>NaN</td>\n",
              "      <td>0</td>\n",
              "      <td>Transient</td>\n",
              "      <td>75.0</td>\n",
              "      <td>0</td>\n",
              "      <td>0</td>\n",
              "      <td>Check-Out</td>\n",
              "      <td>02/07/2015</td>\n",
              "    </tr>\n",
              "    <tr>\n",
              "      <th>4</th>\n",
              "      <td>Resort Hotel</td>\n",
              "      <td>0</td>\n",
              "      <td>14</td>\n",
              "      <td>2015</td>\n",
              "      <td>July</td>\n",
              "      <td>27</td>\n",
              "      <td>1</td>\n",
              "      <td>0</td>\n",
              "      <td>2</td>\n",
              "      <td>2</td>\n",
              "      <td>...</td>\n",
              "      <td>No Deposit</td>\n",
              "      <td>240.0</td>\n",
              "      <td>NaN</td>\n",
              "      <td>0</td>\n",
              "      <td>Transient</td>\n",
              "      <td>98.0</td>\n",
              "      <td>0</td>\n",
              "      <td>1</td>\n",
              "      <td>Check-Out</td>\n",
              "      <td>03/07/2015</td>\n",
              "    </tr>\n",
              "  </tbody>\n",
              "</table>\n",
              "<p>5 rows × 32 columns</p>\n",
              "</div>\n",
              "    <div class=\"colab-df-buttons\">\n",
              "\n",
              "  <div class=\"colab-df-container\">\n",
              "    <button class=\"colab-df-convert\" onclick=\"convertToInteractive('df-0bd6b8b0-95a6-4070-ae1d-acb97e6a9cfc')\"\n",
              "            title=\"Convert this dataframe to an interactive table.\"\n",
              "            style=\"display:none;\">\n",
              "\n",
              "  <svg xmlns=\"http://www.w3.org/2000/svg\" height=\"24px\" viewBox=\"0 -960 960 960\">\n",
              "    <path d=\"M120-120v-720h720v720H120Zm60-500h600v-160H180v160Zm220 220h160v-160H400v160Zm0 220h160v-160H400v160ZM180-400h160v-160H180v160Zm440 0h160v-160H620v160ZM180-180h160v-160H180v160Zm440 0h160v-160H620v160Z\"/>\n",
              "  </svg>\n",
              "    </button>\n",
              "\n",
              "  <style>\n",
              "    .colab-df-container {\n",
              "      display:flex;\n",
              "      gap: 12px;\n",
              "    }\n",
              "\n",
              "    .colab-df-convert {\n",
              "      background-color: #E8F0FE;\n",
              "      border: none;\n",
              "      border-radius: 50%;\n",
              "      cursor: pointer;\n",
              "      display: none;\n",
              "      fill: #1967D2;\n",
              "      height: 32px;\n",
              "      padding: 0 0 0 0;\n",
              "      width: 32px;\n",
              "    }\n",
              "\n",
              "    .colab-df-convert:hover {\n",
              "      background-color: #E2EBFA;\n",
              "      box-shadow: 0px 1px 2px rgba(60, 64, 67, 0.3), 0px 1px 3px 1px rgba(60, 64, 67, 0.15);\n",
              "      fill: #174EA6;\n",
              "    }\n",
              "\n",
              "    .colab-df-buttons div {\n",
              "      margin-bottom: 4px;\n",
              "    }\n",
              "\n",
              "    [theme=dark] .colab-df-convert {\n",
              "      background-color: #3B4455;\n",
              "      fill: #D2E3FC;\n",
              "    }\n",
              "\n",
              "    [theme=dark] .colab-df-convert:hover {\n",
              "      background-color: #434B5C;\n",
              "      box-shadow: 0px 1px 3px 1px rgba(0, 0, 0, 0.15);\n",
              "      filter: drop-shadow(0px 1px 2px rgba(0, 0, 0, 0.3));\n",
              "      fill: #FFFFFF;\n",
              "    }\n",
              "  </style>\n",
              "\n",
              "    <script>\n",
              "      const buttonEl =\n",
              "        document.querySelector('#df-0bd6b8b0-95a6-4070-ae1d-acb97e6a9cfc button.colab-df-convert');\n",
              "      buttonEl.style.display =\n",
              "        google.colab.kernel.accessAllowed ? 'block' : 'none';\n",
              "\n",
              "      async function convertToInteractive(key) {\n",
              "        const element = document.querySelector('#df-0bd6b8b0-95a6-4070-ae1d-acb97e6a9cfc');\n",
              "        const dataTable =\n",
              "          await google.colab.kernel.invokeFunction('convertToInteractive',\n",
              "                                                    [key], {});\n",
              "        if (!dataTable) return;\n",
              "\n",
              "        const docLinkHtml = 'Like what you see? Visit the ' +\n",
              "          '<a target=\"_blank\" href=https://colab.research.google.com/notebooks/data_table.ipynb>data table notebook</a>'\n",
              "          + ' to learn more about interactive tables.';\n",
              "        element.innerHTML = '';\n",
              "        dataTable['output_type'] = 'display_data';\n",
              "        await google.colab.output.renderOutput(dataTable, element);\n",
              "        const docLink = document.createElement('div');\n",
              "        docLink.innerHTML = docLinkHtml;\n",
              "        element.appendChild(docLink);\n",
              "      }\n",
              "    </script>\n",
              "  </div>\n",
              "\n",
              "\n",
              "<div id=\"df-de796fe2-e90c-4a52-bd6e-f2a59ae2373b\">\n",
              "  <button class=\"colab-df-quickchart\" onclick=\"quickchart('df-de796fe2-e90c-4a52-bd6e-f2a59ae2373b')\"\n",
              "            title=\"Suggest charts\"\n",
              "            style=\"display:none;\">\n",
              "\n",
              "<svg xmlns=\"http://www.w3.org/2000/svg\" height=\"24px\"viewBox=\"0 0 24 24\"\n",
              "     width=\"24px\">\n",
              "    <g>\n",
              "        <path d=\"M19 3H5c-1.1 0-2 .9-2 2v14c0 1.1.9 2 2 2h14c1.1 0 2-.9 2-2V5c0-1.1-.9-2-2-2zM9 17H7v-7h2v7zm4 0h-2V7h2v10zm4 0h-2v-4h2v4z\"/>\n",
              "    </g>\n",
              "</svg>\n",
              "  </button>\n",
              "\n",
              "<style>\n",
              "  .colab-df-quickchart {\n",
              "      --bg-color: #E8F0FE;\n",
              "      --fill-color: #1967D2;\n",
              "      --hover-bg-color: #E2EBFA;\n",
              "      --hover-fill-color: #174EA6;\n",
              "      --disabled-fill-color: #AAA;\n",
              "      --disabled-bg-color: #DDD;\n",
              "  }\n",
              "\n",
              "  [theme=dark] .colab-df-quickchart {\n",
              "      --bg-color: #3B4455;\n",
              "      --fill-color: #D2E3FC;\n",
              "      --hover-bg-color: #434B5C;\n",
              "      --hover-fill-color: #FFFFFF;\n",
              "      --disabled-bg-color: #3B4455;\n",
              "      --disabled-fill-color: #666;\n",
              "  }\n",
              "\n",
              "  .colab-df-quickchart {\n",
              "    background-color: var(--bg-color);\n",
              "    border: none;\n",
              "    border-radius: 50%;\n",
              "    cursor: pointer;\n",
              "    display: none;\n",
              "    fill: var(--fill-color);\n",
              "    height: 32px;\n",
              "    padding: 0;\n",
              "    width: 32px;\n",
              "  }\n",
              "\n",
              "  .colab-df-quickchart:hover {\n",
              "    background-color: var(--hover-bg-color);\n",
              "    box-shadow: 0 1px 2px rgba(60, 64, 67, 0.3), 0 1px 3px 1px rgba(60, 64, 67, 0.15);\n",
              "    fill: var(--button-hover-fill-color);\n",
              "  }\n",
              "\n",
              "  .colab-df-quickchart-complete:disabled,\n",
              "  .colab-df-quickchart-complete:disabled:hover {\n",
              "    background-color: var(--disabled-bg-color);\n",
              "    fill: var(--disabled-fill-color);\n",
              "    box-shadow: none;\n",
              "  }\n",
              "\n",
              "  .colab-df-spinner {\n",
              "    border: 2px solid var(--fill-color);\n",
              "    border-color: transparent;\n",
              "    border-bottom-color: var(--fill-color);\n",
              "    animation:\n",
              "      spin 1s steps(1) infinite;\n",
              "  }\n",
              "\n",
              "  @keyframes spin {\n",
              "    0% {\n",
              "      border-color: transparent;\n",
              "      border-bottom-color: var(--fill-color);\n",
              "      border-left-color: var(--fill-color);\n",
              "    }\n",
              "    20% {\n",
              "      border-color: transparent;\n",
              "      border-left-color: var(--fill-color);\n",
              "      border-top-color: var(--fill-color);\n",
              "    }\n",
              "    30% {\n",
              "      border-color: transparent;\n",
              "      border-left-color: var(--fill-color);\n",
              "      border-top-color: var(--fill-color);\n",
              "      border-right-color: var(--fill-color);\n",
              "    }\n",
              "    40% {\n",
              "      border-color: transparent;\n",
              "      border-right-color: var(--fill-color);\n",
              "      border-top-color: var(--fill-color);\n",
              "    }\n",
              "    60% {\n",
              "      border-color: transparent;\n",
              "      border-right-color: var(--fill-color);\n",
              "    }\n",
              "    80% {\n",
              "      border-color: transparent;\n",
              "      border-right-color: var(--fill-color);\n",
              "      border-bottom-color: var(--fill-color);\n",
              "    }\n",
              "    90% {\n",
              "      border-color: transparent;\n",
              "      border-bottom-color: var(--fill-color);\n",
              "    }\n",
              "  }\n",
              "</style>\n",
              "\n",
              "  <script>\n",
              "    async function quickchart(key) {\n",
              "      const quickchartButtonEl =\n",
              "        document.querySelector('#' + key + ' button');\n",
              "      quickchartButtonEl.disabled = true;  // To prevent multiple clicks.\n",
              "      quickchartButtonEl.classList.add('colab-df-spinner');\n",
              "      try {\n",
              "        const charts = await google.colab.kernel.invokeFunction(\n",
              "            'suggestCharts', [key], {});\n",
              "      } catch (error) {\n",
              "        console.error('Error during call to suggestCharts:', error);\n",
              "      }\n",
              "      quickchartButtonEl.classList.remove('colab-df-spinner');\n",
              "      quickchartButtonEl.classList.add('colab-df-quickchart-complete');\n",
              "    }\n",
              "    (() => {\n",
              "      let quickchartButtonEl =\n",
              "        document.querySelector('#df-de796fe2-e90c-4a52-bd6e-f2a59ae2373b button');\n",
              "      quickchartButtonEl.style.display =\n",
              "        google.colab.kernel.accessAllowed ? 'block' : 'none';\n",
              "    })();\n",
              "  </script>\n",
              "</div>\n",
              "\n",
              "    </div>\n",
              "  </div>\n"
            ],
            "application/vnd.google.colaboratory.intrinsic+json": {
              "type": "dataframe",
              "variable_name": "hotel_bookings"
            }
          },
          "metadata": {},
          "execution_count": 53
        }
      ]
    },
    {
      "cell_type": "code",
      "source": [
        "# getting some informations about the dataset\n",
        "hotel_bookings.info()"
      ],
      "metadata": {
        "colab": {
          "base_uri": "https://localhost:8080/"
        },
        "id": "pjdTXiV3fXne",
        "outputId": "9f1df2eb-dbbf-4510-8a7c-1967c21dce77"
      },
      "execution_count": 54,
      "outputs": [
        {
          "output_type": "stream",
          "name": "stdout",
          "text": [
            "<class 'pandas.core.frame.DataFrame'>\n",
            "RangeIndex: 119390 entries, 0 to 119389\n",
            "Data columns (total 32 columns):\n",
            " #   Column                          Non-Null Count   Dtype  \n",
            "---  ------                          --------------   -----  \n",
            " 0   hotel                           119390 non-null  object \n",
            " 1   is_canceled                     119390 non-null  int64  \n",
            " 2   lead_time                       119390 non-null  int64  \n",
            " 3   arrival_date_year               119390 non-null  int64  \n",
            " 4   arrival_date_month              119390 non-null  object \n",
            " 5   arrival_date_week_number        119390 non-null  int64  \n",
            " 6   arrival_date_day_of_month       119390 non-null  int64  \n",
            " 7   stays_in_weekend_nights         119390 non-null  int64  \n",
            " 8   stays_in_week_nights            119390 non-null  int64  \n",
            " 9   adults                          119390 non-null  int64  \n",
            " 10  children                        119386 non-null  float64\n",
            " 11  babies                          119390 non-null  int64  \n",
            " 12  meal                            119390 non-null  object \n",
            " 13  country                         118902 non-null  object \n",
            " 14  market_segment                  119390 non-null  object \n",
            " 15  distribution_channel            119390 non-null  object \n",
            " 16  is_repeated_guest               119390 non-null  int64  \n",
            " 17  previous_cancellations          119390 non-null  int64  \n",
            " 18  previous_bookings_not_canceled  119390 non-null  int64  \n",
            " 19  reserved_room_type              119390 non-null  object \n",
            " 20  assigned_room_type              119390 non-null  object \n",
            " 21  booking_changes                 119390 non-null  int64  \n",
            " 22  deposit_type                    119390 non-null  object \n",
            " 23  agent                           103050 non-null  float64\n",
            " 24  company                         6797 non-null    float64\n",
            " 25  days_in_waiting_list            119390 non-null  int64  \n",
            " 26  customer_type                   119390 non-null  object \n",
            " 27  adr                             119390 non-null  float64\n",
            " 28  required_car_parking_spaces     119390 non-null  int64  \n",
            " 29  total_of_special_requests       119390 non-null  int64  \n",
            " 30  reservation_status              119390 non-null  object \n",
            " 31  reservation_status_date         119390 non-null  object \n",
            "dtypes: float64(4), int64(16), object(12)\n",
            "memory usage: 29.1+ MB\n"
          ]
        }
      ]
    },
    {
      "cell_type": "code",
      "source": [
        "# get the total count of data points\n",
        "\n",
        "total_data_points = hotel_bookings.shape[0]\n",
        "print(f\"Total data points: {total_data_points}\")"
      ],
      "metadata": {
        "colab": {
          "base_uri": "https://localhost:8080/"
        },
        "id": "YUHJwC6gLlg3",
        "outputId": "b849b8ee-495a-4ddd-fa27-8f154efc96c3"
      },
      "execution_count": 55,
      "outputs": [
        {
          "output_type": "stream",
          "name": "stdout",
          "text": [
            "Total data points: 119390\n"
          ]
        }
      ]
    },
    {
      "cell_type": "markdown",
      "source": [
        "## Select Features For Model Based On Lit Review\n",
        "1.\n",
        "2.\n",
        "3.\n",
        "4."
      ],
      "metadata": {
        "id": "5a-RrFVIfNwA"
      }
    },
    {
      "cell_type": "code",
      "source": [
        "hotel_bookings = hotel_bookings.drop(columns=[\"is_canceled\",\"lead_time\",\"arrival_date_year\",\"arrival_date_week_number\",\"arrival_date_day_of_month\",\"assigned_room_type\",\"deposit_type\",\"agent\",\"company\",\"days_in_waiting_list\",\"required_car_parking_spaces\",\"reservation_status\",\"reservation_status_date\",\"previous_cancellations\",\"previous_bookings_not_canceled\",\"distribution_channel\",\"is_repeated_guest\",\"booking_changes\",\"total_of_special_requests\"])"
      ],
      "metadata": {
        "id": "dyDNE1s7ndgb"
      },
      "execution_count": 56,
      "outputs": []
    },
    {
      "cell_type": "markdown",
      "source": [
        "# Data cleaning process"
      ],
      "metadata": {
        "id": "ust5T8dAKsEL"
      }
    },
    {
      "cell_type": "code",
      "source": [
        "hotel_bookings.isnull().sum() ## check if any row has \"NaN\" values"
      ],
      "metadata": {
        "colab": {
          "base_uri": "https://localhost:8080/"
        },
        "id": "E7ims3JGcbzH",
        "outputId": "d24df951-6568-4740-9c9f-13a128671424"
      },
      "execution_count": 57,
      "outputs": [
        {
          "output_type": "execute_result",
          "data": {
            "text/plain": [
              "hotel                        0\n",
              "arrival_date_month           0\n",
              "stays_in_weekend_nights      0\n",
              "stays_in_week_nights         0\n",
              "adults                       0\n",
              "children                     4\n",
              "babies                       0\n",
              "meal                         0\n",
              "country                    488\n",
              "market_segment               0\n",
              "reserved_room_type           0\n",
              "customer_type                0\n",
              "adr                          0\n",
              "dtype: int64"
            ]
          },
          "metadata": {},
          "execution_count": 57
        }
      ]
    },
    {
      "cell_type": "markdown",
      "source": [
        "# Handle missing values\n",
        "\n",
        "\n",
        "1.   children - replace with median value\n",
        "2.   country - drop rows which has missing values"
      ],
      "metadata": {
        "id": "PKV6BIF6d_fN"
      }
    },
    {
      "cell_type": "code",
      "source": [
        "# replace the missing values with median value\n",
        "hotel_bookings['children'].fillna(hotel_bookings['children'].median(),inplace=True)"
      ],
      "metadata": {
        "id": "_eqI0v74d-wh"
      },
      "execution_count": 58,
      "outputs": []
    },
    {
      "cell_type": "code",
      "source": [
        "# drop rows that have missing values of country\n",
        "hotel_bookings = hotel_bookings.dropna(axis=0,subset=['country'])"
      ],
      "metadata": {
        "id": "6yZM1Vowphec"
      },
      "execution_count": 59,
      "outputs": []
    },
    {
      "cell_type": "code",
      "source": [
        "hotel_bookings.isnull().sum() ## check if any row has \"NaN\" values after handling missing values"
      ],
      "metadata": {
        "colab": {
          "base_uri": "https://localhost:8080/"
        },
        "id": "tSAffFJ-ppsu",
        "outputId": "bf377b3e-efce-44ca-cd7e-8b55e94e2e11"
      },
      "execution_count": 60,
      "outputs": [
        {
          "output_type": "execute_result",
          "data": {
            "text/plain": [
              "hotel                      0\n",
              "arrival_date_month         0\n",
              "stays_in_weekend_nights    0\n",
              "stays_in_week_nights       0\n",
              "adults                     0\n",
              "children                   0\n",
              "babies                     0\n",
              "meal                       0\n",
              "country                    0\n",
              "market_segment             0\n",
              "reserved_room_type         0\n",
              "customer_type              0\n",
              "adr                        0\n",
              "dtype: int64"
            ]
          },
          "metadata": {},
          "execution_count": 60
        }
      ]
    },
    {
      "cell_type": "code",
      "source": [
        "(hotel_bookings.iloc[:,:] == \"\").sum() #check for any empty string present"
      ],
      "metadata": {
        "colab": {
          "base_uri": "https://localhost:8080/"
        },
        "id": "F1syeKIadc0f",
        "outputId": "2b6b616a-ed8b-4332-a2e1-d5efd0197b63"
      },
      "execution_count": 61,
      "outputs": [
        {
          "output_type": "execute_result",
          "data": {
            "text/plain": [
              "hotel                      0\n",
              "arrival_date_month         0\n",
              "stays_in_weekend_nights    0\n",
              "stays_in_week_nights       0\n",
              "adults                     0\n",
              "children                   0\n",
              "babies                     0\n",
              "meal                       0\n",
              "country                    0\n",
              "market_segment             0\n",
              "reserved_room_type         0\n",
              "customer_type              0\n",
              "adr                        0\n",
              "dtype: int64"
            ]
          },
          "metadata": {},
          "execution_count": 61
        }
      ]
    },
    {
      "cell_type": "code",
      "source": [
        "(hotel_bookings.iloc[:,:] == 0).sum() #check for any values containing 0"
      ],
      "metadata": {
        "colab": {
          "base_uri": "https://localhost:8080/"
        },
        "id": "-K82GVp7dg5t",
        "outputId": "1c4d62c3-1784-4739-97ad-ec6ff5a8441e"
      },
      "execution_count": 62,
      "outputs": [
        {
          "output_type": "execute_result",
          "data": {
            "text/plain": [
              "hotel                           0\n",
              "arrival_date_month              0\n",
              "stays_in_weekend_nights     51682\n",
              "stays_in_week_nights         7594\n",
              "adults                        393\n",
              "children                   110323\n",
              "babies                     117988\n",
              "meal                            0\n",
              "country                         0\n",
              "market_segment                  0\n",
              "reserved_room_type              0\n",
              "customer_type                   0\n",
              "adr                          1938\n",
              "dtype: int64"
            ]
          },
          "metadata": {},
          "execution_count": 62
        }
      ]
    },
    {
      "cell_type": "code",
      "source": [
        "# since adults can't be 0 in a general booking case, need to replace 0 with median values\n",
        "hotel_bookings['adults'] = hotel_bookings['adults'].replace(0, hotel_bookings['adults'].median())"
      ],
      "metadata": {
        "id": "kRAkv0Akp0lO"
      },
      "execution_count": 63,
      "outputs": []
    },
    {
      "cell_type": "code",
      "source": [
        "# since adr (average daily rate) can't be 0 in a general booking case, need to replace 0 with median values\n",
        "hotel_bookings['adr'] = hotel_bookings['adr'].replace(0, hotel_bookings['adr'].median())"
      ],
      "metadata": {
        "id": "wb4O0m-CqUmf"
      },
      "execution_count": 64,
      "outputs": []
    },
    {
      "cell_type": "code",
      "source": [
        "(hotel_bookings.iloc[:,:] == 0).sum() #check for any values containing 0 after handling relevent fields 0 values"
      ],
      "metadata": {
        "colab": {
          "base_uri": "https://localhost:8080/"
        },
        "id": "WOWGSnsLqli1",
        "outputId": "ab0bebb8-e2c4-48b4-c397-8ab92953158d"
      },
      "execution_count": 65,
      "outputs": [
        {
          "output_type": "execute_result",
          "data": {
            "text/plain": [
              "hotel                           0\n",
              "arrival_date_month              0\n",
              "stays_in_weekend_nights     51682\n",
              "stays_in_week_nights         7594\n",
              "adults                          0\n",
              "children                   110323\n",
              "babies                     117988\n",
              "meal                            0\n",
              "country                         0\n",
              "market_segment                  0\n",
              "reserved_room_type              0\n",
              "customer_type                   0\n",
              "adr                             0\n",
              "dtype: int64"
            ]
          },
          "metadata": {},
          "execution_count": 65
        }
      ]
    },
    {
      "cell_type": "code",
      "source": [
        "# write code to identify all duplicate rows  where  the values all dimensions are same within the data\n",
        "\n",
        "duplicate_rows = hotel_bookings[hotel_bookings.duplicated()]\n",
        "print(\"Number of duplicate rows:\", len(duplicate_rows))\n",
        "print(duplicate_rows)"
      ],
      "metadata": {
        "colab": {
          "base_uri": "https://localhost:8080/"
        },
        "id": "-BjO8xQCOosb",
        "outputId": "010d857b-71aa-4389-89ae-740cbd02702d"
      },
      "execution_count": 66,
      "outputs": [
        {
          "output_type": "stream",
          "name": "stdout",
          "text": [
            "Number of duplicate rows: 44913\n",
            "               hotel arrival_date_month  stays_in_weekend_nights  \\\n",
            "1       Resort Hotel               July                        0   \n",
            "5       Resort Hotel               July                        0   \n",
            "22      Resort Hotel               July                        2   \n",
            "35      Resort Hotel               July                        1   \n",
            "37      Resort Hotel               July                        1   \n",
            "...              ...                ...                      ...   \n",
            "119354    City Hotel             August                        0   \n",
            "119366    City Hotel             August                        2   \n",
            "119367    City Hotel             August                        2   \n",
            "119373    City Hotel             August                        1   \n",
            "119385    City Hotel             August                        2   \n",
            "\n",
            "        stays_in_week_nights  adults  children  babies meal country  \\\n",
            "1                          0       2       0.0       0   BB     PRT   \n",
            "5                          2       2       0.0       0   BB     GBR   \n",
            "22                         4       2       0.0       0   BB     PRT   \n",
            "35                         3       3       0.0       0   BB     PRT   \n",
            "37                         3       3       0.0       0   BB     PRT   \n",
            "...                      ...     ...       ...     ...  ...     ...   \n",
            "119354                     3       3       0.0       0   BB     SWE   \n",
            "119366                     5       2       0.0       0   BB     PRT   \n",
            "119367                     5       2       0.0       0   BB     PRT   \n",
            "119373                     3       1       0.0       0   BB     NLD   \n",
            "119385                     5       2       0.0       0   BB     BEL   \n",
            "\n",
            "       market_segment reserved_room_type    customer_type     adr  \n",
            "1              Direct                  C        Transient   95.00  \n",
            "5           Online TA                  A        Transient   98.00  \n",
            "22             Direct                  A        Transient   84.67  \n",
            "35          Online TA                  D        Transient  108.80  \n",
            "37          Online TA                  D        Transient  108.80  \n",
            "...               ...                ...              ...     ...  \n",
            "119354      Online TA                  D  Transient-Party  195.33  \n",
            "119366      Online TA                  A        Transient   85.59  \n",
            "119367      Online TA                  A        Transient   85.59  \n",
            "119373  Offline TA/TO                  A        Transient   82.35  \n",
            "119385  Offline TA/TO                  A        Transient   96.14  \n",
            "\n",
            "[44913 rows x 13 columns]\n"
          ]
        }
      ]
    },
    {
      "cell_type": "code",
      "source": [
        "# make a copy of hotel bookings data set with only the unique rows\n",
        "hotel_bookings = hotel_bookings.drop_duplicates()"
      ],
      "metadata": {
        "id": "CCzzdHPnP1aY"
      },
      "execution_count": 67,
      "outputs": []
    },
    {
      "cell_type": "code",
      "source": [
        "# get the total count of data points\n",
        "total_data_points = hotel_bookings.shape[0]\n",
        "print(f\"Total data points: {total_data_points}\")"
      ],
      "metadata": {
        "colab": {
          "base_uri": "https://localhost:8080/"
        },
        "id": "AAoBqxvWQKaF",
        "outputId": "aebb4df9-fd6e-4d7a-ec4d-b7c792443c19"
      },
      "execution_count": 68,
      "outputs": [
        {
          "output_type": "stream",
          "name": "stdout",
          "text": [
            "Total data points: 73989\n"
          ]
        }
      ]
    },
    {
      "cell_type": "code",
      "source": [
        "# check duplicates of hotel_bookings_unique\n",
        "duplicate_rows = hotel_bookings[hotel_bookings.duplicated()]\n",
        "print(\"Number of duplicate rows:\", len(duplicate_rows))\n",
        "print(duplicate_rows)"
      ],
      "metadata": {
        "colab": {
          "base_uri": "https://localhost:8080/"
        },
        "id": "arUGG0h5QPjG",
        "outputId": "8b7308bc-4104-4983-e251-47e0e6be8b10"
      },
      "execution_count": 69,
      "outputs": [
        {
          "output_type": "stream",
          "name": "stdout",
          "text": [
            "Number of duplicate rows: 0\n",
            "Empty DataFrame\n",
            "Columns: [hotel, arrival_date_month, stays_in_weekend_nights, stays_in_week_nights, adults, children, babies, meal, country, market_segment, reserved_room_type, customer_type, adr]\n",
            "Index: []\n"
          ]
        }
      ]
    },
    {
      "cell_type": "code",
      "source": [
        "plt.figure(figsize=(20,10))\n",
        "sb.heatmap(data=hotel_bookings.corr(\"pearson\", numeric_only=True),annot=True,cmap=\"Blues\")"
      ],
      "metadata": {
        "colab": {
          "base_uri": "https://localhost:8080/",
          "height": 690
        },
        "id": "aAeU9NaWq1o0",
        "outputId": "40d2795b-2a0a-488f-c1b2-fbf02aed9942"
      },
      "execution_count": 70,
      "outputs": [
        {
          "output_type": "execute_result",
          "data": {
            "text/plain": [
              "<Axes: >"
            ]
          },
          "metadata": {},
          "execution_count": 70
        },
        {
          "output_type": "display_data",
          "data": {
            "text/plain": [
              "<Figure size 2000x1000 with 2 Axes>"
            ],
            "image/png": "[encoded data removed]"
          },
          "metadata": {}
        }
      ]
    },
    {
      "cell_type": "code",
      "source": [
        "# getting some informations about the dataset\n",
        "hotel_bookings.info()"
      ],
      "metadata": {
        "colab": {
          "base_uri": "https://localhost:8080/"
        },
        "id": "1evIoP1vrYs3",
        "outputId": "567097f8-69a7-46d1-c8eb-636e8779e87d"
      },
      "execution_count": 71,
      "outputs": [
        {
          "output_type": "stream",
          "name": "stdout",
          "text": [
            "<class 'pandas.core.frame.DataFrame'>\n",
            "Index: 73989 entries, 0 to 119389\n",
            "Data columns (total 13 columns):\n",
            " #   Column                   Non-Null Count  Dtype  \n",
            "---  ------                   --------------  -----  \n",
            " 0   hotel                    73989 non-null  object \n",
            " 1   arrival_date_month       73989 non-null  object \n",
            " 2   stays_in_weekend_nights  73989 non-null  int64  \n",
            " 3   stays_in_week_nights     73989 non-null  int64  \n",
            " 4   adults                   73989 non-null  int64  \n",
            " 5   children                 73989 non-null  float64\n",
            " 6   babies                   73989 non-null  int64  \n",
            " 7   meal                     73989 non-null  object \n",
            " 8   country                  73989 non-null  object \n",
            " 9   market_segment           73989 non-null  object \n",
            " 10  reserved_room_type       73989 non-null  object \n",
            " 11  customer_type            73989 non-null  object \n",
            " 12  adr                      73989 non-null  float64\n",
            "dtypes: float64(2), int64(4), object(7)\n",
            "memory usage: 7.9+ MB\n"
          ]
        }
      ]
    },
    {
      "cell_type": "markdown",
      "source": [
        "# Visualizing for Outliers and Gaussian Distribution"
      ],
      "metadata": {
        "id": "RlHH6CL6y0LE"
      }
    },
    {
      "cell_type": "code",
      "source": [
        "# plot a histogram of features on a feature with 20 inches wide and 10 inches tall\n",
        "# get the current axis instance (gca) of figure to pass for axis object on dataframe\n",
        "# hist calls hist() of pyplot of matplotlib to plot histogram for each column\n",
        "hotel_bookings.hist(ax=plt.figure(figsize = (20,10)).gca())"
      ],
      "metadata": {
        "colab": {
          "base_uri": "https://localhost:8080/",
          "height": 819
        },
        "id": "l3paJ0KkyvRX",
        "outputId": "11eea759-f3cc-4341-b022-33f6c1ae90a2"
      },
      "execution_count": 72,
      "outputs": [
        {
          "output_type": "stream",
          "name": "stderr",
          "text": [
            "<ipython-input-72-9e3f30268b83>:4: UserWarning: To output multiple subplots, the figure containing the passed axes is being cleared.\n",
            "  hotel_bookings.hist(ax=plt.figure(figsize = (20,10)).gca())\n"
          ]
        },
        {
          "output_type": "execute_result",
          "data": {
            "text/plain": [
              "array([[<Axes: title={'center': 'stays_in_weekend_nights'}>,\n",
              "        <Axes: title={'center': 'stays_in_week_nights'}>],\n",
              "       [<Axes: title={'center': 'adults'}>,\n",
              "        <Axes: title={'center': 'children'}>],\n",
              "       [<Axes: title={'center': 'babies'}>,\n",
              "        <Axes: title={'center': 'adr'}>]], dtype=object)"
            ]
          },
          "metadata": {},
          "execution_count": 72
        },
        {
          "output_type": "display_data",
          "data": {
            "text/plain": [
              "<Figure size 2000x1000 with 6 Axes>"
            ],
            "image/png": "[encoded data removed]"
          },
          "metadata": {}
        }
      ]
    },
    {
      "cell_type": "code",
      "source": [
        "sb.boxplot(ax=plt.figure(figsize=(5,5)).gca(),x=hotel_bookings[\"arrival_date_month\"])"
      ],
      "metadata": {
        "colab": {
          "base_uri": "https://localhost:8080/",
          "height": 483
        },
        "id": "wBu-iSgNXTxr",
        "outputId": "a378f223-5ca3-49bb-9365-6eba55cf14e2"
      },
      "execution_count": 73,
      "outputs": [
        {
          "output_type": "execute_result",
          "data": {
            "text/plain": [
              "<Axes: xlabel='arrival_date_month'>"
            ]
          },
          "metadata": {},
          "execution_count": 73
        },
        {
          "output_type": "display_data",
          "data": {
            "text/plain": [
              "<Figure size 500x500 with 1 Axes>"
            ],
            "image/png": "[encoded data removed]"
          },
          "metadata": {}
        }
      ]
    },
    {
      "cell_type": "code",
      "source": [
        "sb.boxplot(ax=plt.figure(figsize=(5,5)).gca(),x=hotel_bookings[\"stays_in_weekend_nights\"])"
      ],
      "metadata": {
        "colab": {
          "base_uri": "https://localhost:8080/",
          "height": 483
        },
        "id": "P6RSR6fjXZAw",
        "outputId": "511f5cbc-931c-4f04-cba6-b29071b57776"
      },
      "execution_count": 74,
      "outputs": [
        {
          "output_type": "execute_result",
          "data": {
            "text/plain": [
              "<Axes: xlabel='stays_in_weekend_nights'>"
            ]
          },
          "metadata": {},
          "execution_count": 74
        },
        {
          "output_type": "display_data",
          "data": {
            "text/plain": [
              "<Figure size 500x500 with 1 Axes>"
            ],
            "image/png": "[encoded data removed]"
          },
          "metadata": {}
        }
      ]
    },
    {
      "cell_type": "code",
      "source": [
        "sb.boxplot(ax=plt.figure(figsize=(5,5)).gca(),x=hotel_bookings[\"stays_in_week_nights\"])"
      ],
      "metadata": {
        "colab": {
          "base_uri": "https://localhost:8080/",
          "height": 483
        },
        "id": "D04i76LMZCGy",
        "outputId": "354ec0e0-5731-4d78-9dfe-67d53604aed2"
      },
      "execution_count": 75,
      "outputs": [
        {
          "output_type": "execute_result",
          "data": {
            "text/plain": [
              "<Axes: xlabel='stays_in_week_nights'>"
            ]
          },
          "metadata": {},
          "execution_count": 75
        },
        {
          "output_type": "display_data",
          "data": {
            "text/plain": [
              "<Figure size 500x500 with 1 Axes>"
            ],
            "image/png": "[encoded data removed]"
          },
          "metadata": {}
        }
      ]
    },
    {
      "cell_type": "code",
      "source": [
        "sb.boxplot(ax=plt.figure(figsize=(5,5)).gca(),x=hotel_bookings[\"adults\"])"
      ],
      "metadata": {
        "colab": {
          "base_uri": "https://localhost:8080/",
          "height": 483
        },
        "id": "5tlaz80sZFnS",
        "outputId": "421f3d5b-076e-4185-dbe0-d4839773b5df"
      },
      "execution_count": 76,
      "outputs": [
        {
          "output_type": "execute_result",
          "data": {
            "text/plain": [
              "<Axes: xlabel='adults'>"
            ]
          },
          "metadata": {},
          "execution_count": 76
        },
        {
          "output_type": "display_data",
          "data": {
            "text/plain": [
              "<Figure size 500x500 with 1 Axes>"
            ],
            "image/png": "[encoded data removed]"
          },
          "metadata": {}
        }
      ]
    },
    {
      "cell_type": "code",
      "source": [
        "sb.boxplot(ax=plt.figure(figsize=(5,5)).gca(),x=hotel_bookings[\"children\"])"
      ],
      "metadata": {
        "colab": {
          "base_uri": "https://localhost:8080/",
          "height": 483
        },
        "id": "u8tjS4x-a6zX",
        "outputId": "0813e8cb-47d7-472e-c3ad-0f42a9b1deda"
      },
      "execution_count": 77,
      "outputs": [
        {
          "output_type": "execute_result",
          "data": {
            "text/plain": [
              "<Axes: xlabel='children'>"
            ]
          },
          "metadata": {},
          "execution_count": 77
        },
        {
          "output_type": "display_data",
          "data": {
            "text/plain": [
              "<Figure size 500x500 with 1 Axes>"
            ],
            "image/png": "[encoded data removed]"
          },
          "metadata": {}
        }
      ]
    },
    {
      "cell_type": "code",
      "source": [
        "sb.boxplot(ax=plt.figure(figsize=(5,5)).gca(),x=hotel_bookings[\"babies\"])"
      ],
      "metadata": {
        "colab": {
          "base_uri": "https://localhost:8080/",
          "height": 483
        },
        "id": "Xi4DlwAYa_MQ",
        "outputId": "4f643c6e-10bc-4a97-da40-3c3734e23608"
      },
      "execution_count": 78,
      "outputs": [
        {
          "output_type": "execute_result",
          "data": {
            "text/plain": [
              "<Axes: xlabel='babies'>"
            ]
          },
          "metadata": {},
          "execution_count": 78
        },
        {
          "output_type": "display_data",
          "data": {
            "text/plain": [
              "<Figure size 500x500 with 1 Axes>"
            ],
            "image/png": "[encoded data removed]"
          },
          "metadata": {}
        }
      ]
    },
    {
      "cell_type": "markdown",
      "source": [
        "## Encoding Data\n",
        "- Encode Hotel - DummyEncoding as thoes are nominal categorical variables\n",
        "- arrival_date_month - LableEncoding\n",
        "- meal - LableEncoding\n",
        "- country - FrequencyEncoding\n",
        "- market_segment - LableEncoding\n",
        "- distribution_channel - LableEncoding\n",
        "- reserved_room_type - LableEncoding\n",
        "- customer_type - LableEncoding\n"
      ],
      "metadata": {
        "id": "9bUmJL2SsH_1"
      }
    },
    {
      "cell_type": "code",
      "source": [
        "Counter(hotel_bookings.hotel) #identify types of hotel present in the dataset."
      ],
      "metadata": {
        "colab": {
          "base_uri": "https://localhost:8080/"
        },
        "id": "cXazHbex1nob",
        "outputId": "2571e75a-4bbc-4885-b6ed-c17d444ccb71"
      },
      "execution_count": 79,
      "outputs": [
        {
          "output_type": "execute_result",
          "data": {
            "text/plain": [
              "Counter({'Resort Hotel': 28583, 'City Hotel': 45406})"
            ]
          },
          "metadata": {},
          "execution_count": 79
        }
      ]
    },
    {
      "cell_type": "code",
      "source": [
        "Counter(hotel_bookings.arrival_date_month) #identify types of arrival_date_month present in the dataset."
      ],
      "metadata": {
        "colab": {
          "base_uri": "https://localhost:8080/"
        },
        "id": "1IThPqeajlTa",
        "outputId": "37d8d91d-07ca-49f5-e2d0-53fb8b6f941c"
      },
      "execution_count": 80,
      "outputs": [
        {
          "output_type": "execute_result",
          "data": {
            "text/plain": [
              "Counter({'July': 8955,\n",
              "         'August': 10071,\n",
              "         'September': 5649,\n",
              "         'October': 5687,\n",
              "         'November': 4008,\n",
              "         'December': 4253,\n",
              "         'January': 3750,\n",
              "         'February': 4923,\n",
              "         'March': 6180,\n",
              "         'April': 6765,\n",
              "         'May': 7055,\n",
              "         'June': 6693})"
            ]
          },
          "metadata": {},
          "execution_count": 80
        }
      ]
    },
    {
      "cell_type": "code",
      "source": [
        "Counter(hotel_bookings.meal) #identify types of meal present in the dataset."
      ],
      "metadata": {
        "colab": {
          "base_uri": "https://localhost:8080/"
        },
        "id": "NG_IZfTwjova",
        "outputId": "364bc205-2645-4c79-dbf8-f8d332b9f154"
      },
      "execution_count": 81,
      "outputs": [
        {
          "output_type": "execute_result",
          "data": {
            "text/plain": [
              "Counter({'BB': 57076, 'FB': 322, 'HB': 7964, 'SC': 8280, 'Undefined': 347})"
            ]
          },
          "metadata": {},
          "execution_count": 81
        }
      ]
    },
    {
      "cell_type": "code",
      "source": [
        "Counter(hotel_bookings.country) #identify types of country present in the dataset."
      ],
      "metadata": {
        "colab": {
          "base_uri": "https://localhost:8080/"
        },
        "id": "uZ84kpbGjtj4",
        "outputId": "76cfcdcf-3fc5-4b8c-bb3a-36bdc9dc8ca2"
      },
      "execution_count": 82,
      "outputs": [
        {
          "output_type": "execute_result",
          "data": {
            "text/plain": [
              "Counter({'PRT': 20799,\n",
              "         'GBR': 9044,\n",
              "         'USA': 1772,\n",
              "         'ESP': 6482,\n",
              "         'IRL': 2766,\n",
              "         'FRA': 7380,\n",
              "         'ROU': 439,\n",
              "         'NOR': 480,\n",
              "         'OMN': 18,\n",
              "         'ARG': 197,\n",
              "         'POL': 728,\n",
              "         'DEU': 4674,\n",
              "         'BEL': 1933,\n",
              "         'CHE': 1485,\n",
              "         'CN': 998,\n",
              "         'GRC': 113,\n",
              "         'ITA': 2668,\n",
              "         'NLD': 1792,\n",
              "         'DNK': 365,\n",
              "         'RUS': 536,\n",
              "         'SWE': 764,\n",
              "         'AUS': 364,\n",
              "         'EST': 76,\n",
              "         'CZE': 123,\n",
              "         'BRA': 1852,\n",
              "         'FIN': 415,\n",
              "         'MOZ': 48,\n",
              "         'BWA': 1,\n",
              "         'LUX': 244,\n",
              "         'SVN': 44,\n",
              "         'ALB': 11,\n",
              "         'IND': 138,\n",
              "         'CHN': 747,\n",
              "         'MEX': 71,\n",
              "         'MAR': 226,\n",
              "         'UKR': 58,\n",
              "         'SMR': 1,\n",
              "         'LVA': 49,\n",
              "         'PRI': 10,\n",
              "         'SRB': 44,\n",
              "         'CHL': 63,\n",
              "         'AUT': 853,\n",
              "         'BLR': 24,\n",
              "         'LTU': 73,\n",
              "         'TUR': 195,\n",
              "         'ZAF': 77,\n",
              "         'AGO': 336,\n",
              "         'ISR': 361,\n",
              "         'CYM': 1,\n",
              "         'ZMB': 2,\n",
              "         'CPV': 22,\n",
              "         'ZWE': 4,\n",
              "         'DZA': 77,\n",
              "         'KOR': 118,\n",
              "         'CRI': 18,\n",
              "         'HUN': 193,\n",
              "         'ARE': 48,\n",
              "         'TUN': 37,\n",
              "         'JAM': 6,\n",
              "         'HRV': 89,\n",
              "         'HKG': 23,\n",
              "         'IRN': 74,\n",
              "         'GEO': 16,\n",
              "         'AND': 7,\n",
              "         'GIB': 14,\n",
              "         'URY': 28,\n",
              "         'JEY': 8,\n",
              "         'CAF': 5,\n",
              "         'CYP': 38,\n",
              "         'COL': 66,\n",
              "         'GGY': 2,\n",
              "         'KWT': 16,\n",
              "         'NGA': 28,\n",
              "         'MDV': 12,\n",
              "         'VEN': 21,\n",
              "         'SVK': 48,\n",
              "         'FJI': 1,\n",
              "         'KAZ': 19,\n",
              "         'PAK': 13,\n",
              "         'IDN': 25,\n",
              "         'LBN': 28,\n",
              "         'PHL': 31,\n",
              "         'SEN': 11,\n",
              "         'SYC': 2,\n",
              "         'AZE': 14,\n",
              "         'BHR': 5,\n",
              "         'NZL': 62,\n",
              "         'THA': 36,\n",
              "         'DOM': 12,\n",
              "         'MKD': 3,\n",
              "         'MYS': 24,\n",
              "         'ARM': 8,\n",
              "         'JPN': 173,\n",
              "         'LKA': 5,\n",
              "         'CUB': 8,\n",
              "         'CMR': 10,\n",
              "         'BIH': 11,\n",
              "         'MUS': 6,\n",
              "         'COM': 2,\n",
              "         'SUR': 5,\n",
              "         'UGA': 2,\n",
              "         'BGR': 66,\n",
              "         'CIV': 6,\n",
              "         'JOR': 17,\n",
              "         'SYR': 3,\n",
              "         'SGP': 34,\n",
              "         'BDI': 1,\n",
              "         'SAU': 45,\n",
              "         'VNM': 8,\n",
              "         'PLW': 1,\n",
              "         'QAT': 13,\n",
              "         'EGY': 29,\n",
              "         'PER': 26,\n",
              "         'MLT': 17,\n",
              "         'MWI': 2,\n",
              "         'ECU': 24,\n",
              "         'MDG': 1,\n",
              "         'ISL': 22,\n",
              "         'UZB': 4,\n",
              "         'NPL': 1,\n",
              "         'BHS': 1,\n",
              "         'MAC': 10,\n",
              "         'TGO': 2,\n",
              "         'TWN': 42,\n",
              "         'DJI': 1,\n",
              "         'STP': 2,\n",
              "         'KNA': 2,\n",
              "         'ETH': 3,\n",
              "         'IRQ': 10,\n",
              "         'HND': 1,\n",
              "         'RWA': 2,\n",
              "         'KHM': 1,\n",
              "         'MCO': 4,\n",
              "         'BGD': 9,\n",
              "         'IMN': 2,\n",
              "         'TJK': 2,\n",
              "         'NIC': 1,\n",
              "         'BEN': 3,\n",
              "         'VGB': 1,\n",
              "         'TZA': 5,\n",
              "         'GAB': 4,\n",
              "         'GHA': 4,\n",
              "         'TMP': 3,\n",
              "         'GLP': 1,\n",
              "         'KEN': 6,\n",
              "         'LIE': 3,\n",
              "         'GNB': 9,\n",
              "         'MNE': 5,\n",
              "         'UMI': 1,\n",
              "         'MYT': 2,\n",
              "         'FRO': 3,\n",
              "         'MMR': 1,\n",
              "         'PAN': 8,\n",
              "         'BFA': 1,\n",
              "         'LBY': 7,\n",
              "         'MLI': 1,\n",
              "         'NAM': 1,\n",
              "         'BOL': 3,\n",
              "         'PRY': 4,\n",
              "         'BRB': 1,\n",
              "         'ABW': 2,\n",
              "         'AIA': 1,\n",
              "         'SLV': 2,\n",
              "         'DMA': 1,\n",
              "         'PYF': 1,\n",
              "         'GUY': 1,\n",
              "         'LCA': 1,\n",
              "         'ATA': 2,\n",
              "         'GTM': 3,\n",
              "         'ASM': 1,\n",
              "         'MRT': 1,\n",
              "         'NCL': 1,\n",
              "         'KIR': 1,\n",
              "         'SDN': 1,\n",
              "         'ATF': 1,\n",
              "         'SLE': 1,\n",
              "         'LAO': 2})"
            ]
          },
          "metadata": {},
          "execution_count": 82
        }
      ]
    },
    {
      "cell_type": "code",
      "source": [
        "Counter(hotel_bookings.market_segment) #identify types of market_segment present in the dataset."
      ],
      "metadata": {
        "id": "2mn_BenWjt_o",
        "colab": {
          "base_uri": "https://localhost:8080/"
        },
        "outputId": "539ba421-6407-4725-d353-9c9aac9d475d"
      },
      "execution_count": 83,
      "outputs": [
        {
          "output_type": "execute_result",
          "data": {
            "text/plain": [
              "Counter({'Direct': 10596,\n",
              "         'Corporate': 2243,\n",
              "         'Online TA': 46288,\n",
              "         'Offline TA/TO': 11199,\n",
              "         'Complementary': 444,\n",
              "         'Groups': 3016,\n",
              "         'Undefined': 2,\n",
              "         'Aviation': 201})"
            ]
          },
          "metadata": {},
          "execution_count": 83
        }
      ]
    },
    {
      "cell_type": "code",
      "source": [
        "Counter(hotel_bookings.reserved_room_type) #identify types of reserved_room_type present in the dataset."
      ],
      "metadata": {
        "id": "oFcbmGhNj_kz",
        "colab": {
          "base_uri": "https://localhost:8080/"
        },
        "outputId": "934f2478-7eb0-4556-c5c4-a65e295342ae"
      },
      "execution_count": 84,
      "outputs": [
        {
          "output_type": "execute_result",
          "data": {
            "text/plain": [
              "Counter({'C': 885,\n",
              "         'A': 45343,\n",
              "         'D': 15842,\n",
              "         'E': 5688,\n",
              "         'G': 1986,\n",
              "         'F': 2731,\n",
              "         'H': 590,\n",
              "         'L': 6,\n",
              "         'B': 917,\n",
              "         'P': 1})"
            ]
          },
          "metadata": {},
          "execution_count": 84
        }
      ]
    },
    {
      "cell_type": "code",
      "source": [
        "Counter(hotel_bookings.customer_type) #identify types of customer_type present in the dataset."
      ],
      "metadata": {
        "id": "B9EUY1zskDtI",
        "colab": {
          "base_uri": "https://localhost:8080/"
        },
        "outputId": "6797fb23-82ac-4da5-d73c-4ac6993a7306"
      },
      "execution_count": 85,
      "outputs": [
        {
          "output_type": "execute_result",
          "data": {
            "text/plain": [
              "Counter({'Transient': 62368,\n",
              "         'Contract': 2687,\n",
              "         'Transient-Party': 8435,\n",
              "         'Group': 499})"
            ]
          },
          "metadata": {},
          "execution_count": 85
        }
      ]
    },
    {
      "cell_type": "code",
      "source": [
        "hotel_bookings_features = hotel_bookings.values\n",
        "hotel_bookings_features[[0]]"
      ],
      "metadata": {
        "id": "K2le7k1E1wFN",
        "colab": {
          "base_uri": "https://localhost:8080/"
        },
        "outputId": "30ed560f-14bb-497f-f914-3754e1e784b3"
      },
      "execution_count": 86,
      "outputs": [
        {
          "output_type": "execute_result",
          "data": {
            "text/plain": [
              "array([['Resort Hotel', 'July', 0, 0, 2, 0.0, 0, 'BB', 'PRT', 'Direct',\n",
              "        'C', 'Transient', 95.0]], dtype=object)"
            ]
          },
          "metadata": {},
          "execution_count": 86
        }
      ]
    },
    {
      "cell_type": "code",
      "source": [
        "encoder = ColumnTransformer(transformers=[(\"encoder\",OneHotEncoder(drop=\"first\"),[0])],remainder=\"passthrough\") #apply transformers to columns of a np array and do not drop the other columns\n",
        "encoder.fit(hotel_bookings_features) #fit the OneHotEncoder on the passed independent features.\n",
        "hotel_bookings_features = encoder.transform(hotel_bookings_features) # introduct the dummies to the features and drop the hotel column\n",
        "\n",
        "hotel_bookings_features[[0]]"
      ],
      "metadata": {
        "colab": {
          "base_uri": "https://localhost:8080/"
        },
        "id": "CTiFNZCHpzrn",
        "outputId": "f54e9c07-6a23-4cbd-8dc1-4bfed3961852"
      },
      "execution_count": 87,
      "outputs": [
        {
          "output_type": "execute_result",
          "data": {
            "text/plain": [
              "array([[1.0, 'July', 0, 0, 2, 0.0, 0, 'BB', 'PRT', 'Direct', 'C',\n",
              "        'Transient', 95.0]], dtype=object)"
            ]
          },
          "metadata": {},
          "execution_count": 87
        }
      ]
    },
    {
      "cell_type": "code",
      "source": [
        "# perform lable encoding for arrival_date_month of array hotel_bookings_features\n",
        "label_encoder = LabelEncoder()\n",
        "hotel_bookings_features[:, 1] = label_encoder.fit_transform(hotel_bookings_features[:, 1])\n",
        "\n",
        "hotel_bookings_features[[0]]"
      ],
      "metadata": {
        "colab": {
          "base_uri": "https://localhost:8080/"
        },
        "id": "VImfV9zWs7aT",
        "outputId": "ed092c8c-892b-4ec6-e0ac-49e4dfed6b27"
      },
      "execution_count": 88,
      "outputs": [
        {
          "output_type": "execute_result",
          "data": {
            "text/plain": [
              "array([[1.0, 5, 0, 0, 2, 0.0, 0, 'BB', 'PRT', 'Direct', 'C', 'Transient',\n",
              "        95.0]], dtype=object)"
            ]
          },
          "metadata": {},
          "execution_count": 88
        }
      ]
    },
    {
      "cell_type": "code",
      "source": [
        "# perform lable encoding for meal of array hotel_bookings_features\n",
        "label_encoder = LabelEncoder()\n",
        "hotel_bookings_features[:, 7] = label_encoder.fit_transform(hotel_bookings_features[:, 7])\n",
        "\n",
        "hotel_bookings_features[[0]]"
      ],
      "metadata": {
        "colab": {
          "base_uri": "https://localhost:8080/"
        },
        "id": "MhCtdMgpuE7v",
        "outputId": "9540b05a-de81-40e4-ba3d-72b3eb21a362"
      },
      "execution_count": 89,
      "outputs": [
        {
          "output_type": "execute_result",
          "data": {
            "text/plain": [
              "array([[1.0, 5, 0, 0, 2, 0.0, 0, 0, 'PRT', 'Direct', 'C', 'Transient',\n",
              "        95.0]], dtype=object)"
            ]
          },
          "metadata": {},
          "execution_count": 89
        }
      ]
    },
    {
      "cell_type": "code",
      "source": [
        "# perform lable encoding for country of array hotel_bookings_features\n",
        "country_col = hotel_bookings_features[:, 8]\n",
        "\n",
        "# Count the frequency of each country category\n",
        "country_counts = Counter(country_col)\n",
        "\n",
        "# Create a dictionary mapping each country category to its frequency\n",
        "country_frequency_map = {country: country_counts[country] for country in country_counts}\n",
        "\n",
        "# Replace each country category with its frequency in the dataset\n",
        "hotel_bookings_features[:, 8] = [country_frequency_map[country] for country in country_col]\n",
        "\n",
        "hotel_bookings_features[[0]]"
      ],
      "metadata": {
        "colab": {
          "base_uri": "https://localhost:8080/"
        },
        "id": "VqeIu7s4wp7c",
        "outputId": "dc10576b-a2b1-4e2b-97a7-e55e685b81f0"
      },
      "execution_count": 90,
      "outputs": [
        {
          "output_type": "execute_result",
          "data": {
            "text/plain": [
              "array([[1.0, 5, 0, 0, 2, 0.0, 0, 0, 20799, 'Direct', 'C', 'Transient',\n",
              "        95.0]], dtype=object)"
            ]
          },
          "metadata": {},
          "execution_count": 90
        }
      ]
    },
    {
      "cell_type": "code",
      "source": [
        "# perform lable encoding for market_segment of array hotel_bookings_features\n",
        "label_encoder = LabelEncoder()\n",
        "hotel_bookings_features[:, 9] = label_encoder.fit_transform(hotel_bookings_features[:, 9])\n",
        "\n",
        "hotel_bookings_features[[0]]"
      ],
      "metadata": {
        "colab": {
          "base_uri": "https://localhost:8080/"
        },
        "id": "Y6e8dpHZvYwe",
        "outputId": "51f12381-5a57-4381-9f63-37b26450ec17"
      },
      "execution_count": 91,
      "outputs": [
        {
          "output_type": "execute_result",
          "data": {
            "text/plain": [
              "array([[1.0, 5, 0, 0, 2, 0.0, 0, 0, 20799, 3, 'C', 'Transient', 95.0]],\n",
              "      dtype=object)"
            ]
          },
          "metadata": {},
          "execution_count": 91
        }
      ]
    },
    {
      "cell_type": "code",
      "source": [
        "# perform lable encoding for reserved_room_type of array hotel_bookings_features\n",
        "label_encoder = LabelEncoder()\n",
        "hotel_bookings_features[:, 10] = label_encoder.fit_transform(hotel_bookings_features[:, 10])\n",
        "\n",
        "hotel_bookings_features[[0]]"
      ],
      "metadata": {
        "colab": {
          "base_uri": "https://localhost:8080/"
        },
        "id": "cz3QP9mAvcxL",
        "outputId": "81a21b4c-e62b-4b1a-a8c4-7d40a17f88e9"
      },
      "execution_count": 92,
      "outputs": [
        {
          "output_type": "execute_result",
          "data": {
            "text/plain": [
              "array([[1.0, 5, 0, 0, 2, 0.0, 0, 0, 20799, 3, 2, 'Transient', 95.0]],\n",
              "      dtype=object)"
            ]
          },
          "metadata": {},
          "execution_count": 92
        }
      ]
    },
    {
      "cell_type": "code",
      "source": [
        "# perform lable encoding for customer_type of array hotel_bookings_features\n",
        "label_encoder = LabelEncoder()\n",
        "hotel_bookings_features[:, 11] = label_encoder.fit_transform(hotel_bookings_features[:, 11])\n",
        "\n",
        "hotel_bookings_features[[0]]"
      ],
      "metadata": {
        "colab": {
          "base_uri": "https://localhost:8080/"
        },
        "id": "C5z_imMMvlP0",
        "outputId": "d1823f1c-0d6d-4679-fa99-ba4ec81eaf49"
      },
      "execution_count": 93,
      "outputs": [
        {
          "output_type": "execute_result",
          "data": {
            "text/plain": [
              "array([[1.0, 5, 0, 0, 2, 0.0, 0, 0, 20799, 3, 2, 2, 95.0]], dtype=object)"
            ]
          },
          "metadata": {},
          "execution_count": 93
        }
      ]
    },
    {
      "cell_type": "code",
      "source": [
        "# Create a list of column names excluding \"arrival_date_month\"\n",
        "column_names = list(range(hotel_bookings_features.shape[1]))  # Assuming each column represents a feature\n",
        "\n",
        "# Remove the index corresponding to \"arrival_date_month\" if needed\n",
        "if \"arrival_date_month\" in column_names:\n",
        "    column_names.remove(\"arrival_date_month\")\n",
        "\n",
        "# Initialize empty lists to store upper and lower limits for each column\n",
        "upper_limits = []\n",
        "lower_limits = []\n",
        "\n",
        "# Loop through each column and calculate upper and lower limits using quantiles\n",
        "for column_idx in column_names:\n",
        "    column_values = hotel_bookings_features[:, column_idx]\n",
        "    q1 = np.quantile(column_values, 0.25)\n",
        "    q3 = np.quantile(column_values, 0.75)\n",
        "    iqr = q3 - q1\n",
        "    upper_limit = q3 + 1.5 * iqr\n",
        "    lower_limit = q1 - 1.5 * iqr\n",
        "    upper_limits.append(upper_limit)\n",
        "    lower_limits.append(lower_limit)\n",
        "\n",
        "# Print the upper and lower limits for each column\n",
        "for i, column_idx in enumerate(column_names):\n",
        "    print(f\"Column {column_idx}: Upper Limit = {upper_limits[i]}, Lower Limit = {lower_limits[i]}\")"
      ],
      "metadata": {
        "colab": {
          "base_uri": "https://localhost:8080/"
        },
        "id": "dj6u7RTRSExO",
        "outputId": "488ad82a-0c4c-4aa4-b0da-7ac891beb32e"
      },
      "execution_count": 94,
      "outputs": [
        {
          "output_type": "stream",
          "name": "stdout",
          "text": [
            "Column 0: Upper Limit = 2.5, Lower Limit = -1.5\n",
            "Column 1: Upper Limit = 17.0, Lower Limit = -7.0\n",
            "Column 2: Upper Limit = 5.0, Lower Limit = -3.0\n",
            "Column 3: Upper Limit = 8.5, Lower Limit = -3.5\n",
            "Column 4: Upper Limit = 2.0, Lower Limit = 2.0\n",
            "Column 5: Upper Limit = 0.0, Lower Limit = 0.0\n",
            "Column 6: Upper Limit = 0.0, Lower Limit = 0.0\n",
            "Column 7: Upper Limit = 0.0, Lower Limit = 0.0\n",
            "Column 8: Upper Limit = 49098.0, Lower Limit = -26366.0\n",
            "Column 9: Upper Limit = 7.5, Lower Limit = 3.5\n",
            "Column 10: Upper Limit = 7.5, Lower Limit = -4.5\n",
            "Column 11: Upper Limit = 2.0, Lower Limit = 2.0\n",
            "Column 12: Upper Limit = 230.5, Lower Limit = -13.5\n"
          ]
        }
      ]
    },
    {
      "cell_type": "code",
      "source": [
        "# replace outliers with uppermost value\n",
        "\n",
        "for i in range(len(hotel_bookings_features)):\n",
        "    for j in range(len(hotel_bookings_features[0])):\n",
        "        if hotel_bookings_features[i][j] > upper_limits[j]:\n",
        "            hotel_bookings_features[i][j] = upper_limits[j]\n"
      ],
      "metadata": {
        "id": "l6c_j9s8SfFM"
      },
      "execution_count": 95,
      "outputs": []
    },
    {
      "cell_type": "markdown",
      "source": [
        "# Splitting Training/Test/Validation Data\n",
        "- where 75% training, 25% testing"
      ],
      "metadata": {
        "id": "LpwlUrRCceFV"
      }
    },
    {
      "cell_type": "code",
      "source": [
        "x_train, x_test = train_test_split(hotel_bookings_features, test_size=0.25, random_state=42)"
      ],
      "metadata": {
        "id": "538B-yWRrSRb"
      },
      "execution_count": 96,
      "outputs": []
    },
    {
      "cell_type": "markdown",
      "source": [
        "# Feature scaling"
      ],
      "metadata": {
        "id": "22AcJNRQlI6u"
      }
    },
    {
      "cell_type": "code",
      "source": [
        "scaler = RobustScaler() #by default it takes the with_scaling as 25th and 75th percentile so scale and centers around median\n",
        "scaler.fit(x_train)\n",
        "#fit will calculate the meadian and the IQR independently for each feature"
      ],
      "metadata": {
        "id": "DeV5x1yheP4e",
        "colab": {
          "base_uri": "https://localhost:8080/",
          "height": 74
        },
        "outputId": "5d77e876-e4f9-4a58-b10d-6134e0570ba2"
      },
      "execution_count": 97,
      "outputs": [
        {
          "output_type": "execute_result",
          "data": {
            "text/plain": [
              "RobustScaler()"
            ],
            "text/html": [
              "<style>#sk-container-id-2 {color: black;background-color: white;}#sk-container-id-2 pre{padding: 0;}#sk-container-id-2 div.sk-toggleable {background-color: white;}#sk-container-id-2 label.sk-toggleable__label {cursor: pointer;display: block;width: 100%;margin-bottom: 0;padding: 0.3em;box-sizing: border-box;text-align: center;}#sk-container-id-2 label.sk-toggleable__label-arrow:before {content: \"▸\";float: left;margin-right: 0.25em;color: #696969;}#sk-container-id-2 label.sk-toggleable__label-arrow:hover:before {color: black;}#sk-container-id-2 div.sk-estimator:hover label.sk-toggleable__label-arrow:before {color: black;}#sk-container-id-2 div.sk-toggleable__content {max-height: 0;max-width: 0;overflow: hidden;text-align: left;background-color: #f0f8ff;}#sk-container-id-2 div.sk-toggleable__content pre {margin: 0.2em;color: black;border-radius: 0.25em;background-color: #f0f8ff;}#sk-container-id-2 input.sk-toggleable__control:checked~div.sk-toggleable__content {max-height: 200px;max-width: 100%;overflow: auto;}#sk-container-id-2 input.sk-toggleable__control:checked~label.sk-toggleable__label-arrow:before {content: \"▾\";}#sk-container-id-2 div.sk-estimator input.sk-toggleable__control:checked~label.sk-toggleable__label {background-color: #d4ebff;}#sk-container-id-2 div.sk-label input.sk-toggleable__control:checked~label.sk-toggleable__label {background-color: #d4ebff;}#sk-container-id-2 input.sk-hidden--visually {border: 0;clip: rect(1px 1px 1px 1px);clip: rect(1px, 1px, 1px, 1px);height: 1px;margin: -1px;overflow: hidden;padding: 0;position: absolute;width: 1px;}#sk-container-id-2 div.sk-estimator {font-family: monospace;background-color: #f0f8ff;border: 1px dotted black;border-radius: 0.25em;box-sizing: border-box;margin-bottom: 0.5em;}#sk-container-id-2 div.sk-estimator:hover {background-color: #d4ebff;}#sk-container-id-2 div.sk-parallel-item::after {content: \"\";width: 100%;border-bottom: 1px solid gray;flex-grow: 1;}#sk-container-id-2 div.sk-label:hover label.sk-toggleable__label {background-color: #d4ebff;}#sk-container-id-2 div.sk-serial::before {content: \"\";position: absolute;border-left: 1px solid gray;box-sizing: border-box;top: 0;bottom: 0;left: 50%;z-index: 0;}#sk-container-id-2 div.sk-serial {display: flex;flex-direction: column;align-items: center;background-color: white;padding-right: 0.2em;padding-left: 0.2em;position: relative;}#sk-container-id-2 div.sk-item {position: relative;z-index: 1;}#sk-container-id-2 div.sk-parallel {display: flex;align-items: stretch;justify-content: center;background-color: white;position: relative;}#sk-container-id-2 div.sk-item::before, #sk-container-id-2 div.sk-parallel-item::before {content: \"\";position: absolute;border-left: 1px solid gray;box-sizing: border-box;top: 0;bottom: 0;left: 50%;z-index: -1;}#sk-container-id-2 div.sk-parallel-item {display: flex;flex-direction: column;z-index: 1;position: relative;background-color: white;}#sk-container-id-2 div.sk-parallel-item:first-child::after {align-self: flex-end;width: 50%;}#sk-container-id-2 div.sk-parallel-item:last-child::after {align-self: flex-start;width: 50%;}#sk-container-id-2 div.sk-parallel-item:only-child::after {width: 0;}#sk-container-id-2 div.sk-dashed-wrapped {border: 1px dashed gray;margin: 0 0.4em 0.5em 0.4em;box-sizing: border-box;padding-bottom: 0.4em;background-color: white;}#sk-container-id-2 div.sk-label label {font-family: monospace;font-weight: bold;display: inline-block;line-height: 1.2em;}#sk-container-id-2 div.sk-label-container {text-align: center;}#sk-container-id-2 div.sk-container {/* jupyter's `normalize.less` sets `[hidden] { display: none; }` but bootstrap.min.css set `[hidden] { display: none !important; }` so we also need the `!important` here to be able to override the default hidden behavior on the sphinx rendered scikit-learn.org. See: https://github.com/scikit-learn/scikit-learn/issues/21755 */display: inline-block !important;position: relative;}#sk-container-id-2 div.sk-text-repr-fallback {display: none;}</style><div id=\"sk-container-id-2\" class=\"sk-top-container\"><div class=\"sk-text-repr-fallback\"><pre>RobustScaler()</pre><b>In a Jupyter environment, please rerun this cell to show the HTML representation or trust the notebook. <br />On GitHub, the HTML representation is unable to render, please try loading this page with nbviewer.org.</b></div><div class=\"sk-container\" hidden><div class=\"sk-item\"><div class=\"sk-estimator sk-toggleable\"><input class=\"sk-toggleable__control sk-hidden--visually\" id=\"sk-estimator-id-2\" type=\"checkbox\" checked><label for=\"sk-estimator-id-2\" class=\"sk-toggleable__label sk-toggleable__label-arrow\">RobustScaler</label><div class=\"sk-toggleable__content\"><pre>RobustScaler()</pre></div></div></div></div></div>"
            ]
          },
          "metadata": {},
          "execution_count": 97
        }
      ]
    },
    {
      "cell_type": "code",
      "source": [
        "x_train = scaler.transform(x_train) #apply the robust scaler formula to train set based on computed Q2, IQR\n",
        "x_test = scaler.transform(x_test) #apply the robust scaler formula to test set based on computed Q2, IQR"
      ],
      "metadata": {
        "id": "Crpz6KiDf5OU"
      },
      "execution_count": 98,
      "outputs": []
    },
    {
      "cell_type": "markdown",
      "source": [
        "# Create two DataFrames to train and test"
      ],
      "metadata": {
        "id": "Qc1G0Zm0XRo5"
      }
    },
    {
      "cell_type": "code",
      "source": [
        "column_names = [\n",
        "    'hotel', 'arrival_date_month', 'stays_in_weekend_nights', 'stays_in_week_nights',\n",
        "    'adults', 'children', 'babies', 'meal', 'country', 'market_segment',\n",
        "    'reserved_room_type','customer_type', 'adr'\n",
        "]\n",
        "\n",
        "df_train = pd.DataFrame(x_train, columns=column_names) # train dataframe\n",
        "df_test = pd.DataFrame(x_test, columns=column_names) # test dataframe"
      ],
      "metadata": {
        "id": "h66yKleLXWGb"
      },
      "execution_count": 99,
      "outputs": []
    },
    {
      "cell_type": "code",
      "source": [],
      "metadata": {
        "id": "UD1zbFK8eF7h"
      },
      "execution_count": null,
      "outputs": []
    },
    {
      "cell_type": "code",
      "source": [
        "# Display the descriptive statistics\n",
        "df_train.describe().transpose()"
      ],
      "metadata": {
        "colab": {
          "base_uri": "https://localhost:8080/",
          "height": 457
        },
        "id": "m_8djSpswaGm",
        "outputId": "554b25ca-c5f6-4fac-8165-2b5bc947baf8"
      },
      "execution_count": 100,
      "outputs": [
        {
          "output_type": "execute_result",
          "data": {
            "text/plain": [
              "                           count      mean       std       min       25%  50%  \\\n",
              "hotel                    55491.0  0.388099  0.487322  0.000000  0.000000  0.0   \n",
              "arrival_date_month       55491.0  0.040709  0.579211 -0.833333 -0.500000  0.0   \n",
              "stays_in_weekend_nights  55491.0  0.028365  0.503884 -0.500000 -0.500000  0.0   \n",
              "stays_in_week_nights     55491.0  0.224565  0.615770 -0.666667 -0.333333  0.0   \n",
              "adults                   55491.0 -0.167397  0.373333 -1.000000  0.000000  0.0   \n",
              "children                 55491.0  0.000000  0.000000  0.000000  0.000000  0.0   \n",
              "babies                   55491.0  0.000000  0.000000  0.000000  0.000000  0.0   \n",
              "meal                     55491.0  0.000000  0.000000  0.000000  0.000000  0.0   \n",
              "country                  55491.0  0.086817  0.414888 -0.391127 -0.288720  0.0   \n",
              "market_segment           55491.0 -0.830982  1.282004 -6.000000 -1.000000  0.0   \n",
              "reserved_room_type       55491.0  0.462492  0.628876  0.000000  0.000000  0.0   \n",
              "customer_type            55491.0 -0.079779  0.382577 -2.000000  0.000000  0.0   \n",
              "adr                      55491.0  0.137748  0.778976 -1.669836 -0.407541  0.0   \n",
              "\n",
              "                              75%       max  \n",
              "hotel                    1.000000  1.000000  \n",
              "arrival_date_month       0.500000  1.000000  \n",
              "stays_in_weekend_nights  0.500000  2.000000  \n",
              "stays_in_week_nights     0.666667  2.166667  \n",
              "adults                   0.000000  0.000000  \n",
              "children                 0.000000  0.000000  \n",
              "babies                   0.000000  0.000000  \n",
              "meal                     0.000000  0.000000  \n",
              "country                  0.711280  0.711280  \n",
              "market_segment           0.000000  1.000000  \n",
              "reserved_room_type       1.000000  2.500000  \n",
              "customer_type            0.000000  0.000000  \n",
              "adr                      0.592459  2.092459  "
            ],
            "text/html": [
              "\n",
              "  <div id=\"df-18bfe9c6-6c46-4fd1-acf8-e5f3b345c408\" class=\"colab-df-container\">\n",
              "    <div>\n",
              "<style scoped>\n",
              "    .dataframe tbody tr th:only-of-type {\n",
              "        vertical-align: middle;\n",
              "    }\n",
              "\n",
              "    .dataframe tbody tr th {\n",
              "        vertical-align: top;\n",
              "    }\n",
              "\n",
              "    .dataframe thead th {\n",
              "        text-align: right;\n",
              "    }\n",
              "</style>\n",
              "<table border=\"1\" class=\"dataframe\">\n",
              "  <thead>\n",
              "    <tr style=\"text-align: right;\">\n",
              "      <th></th>\n",
              "      <th>count</th>\n",
              "      <th>mean</th>\n",
              "      <th>std</th>\n",
              "      <th>min</th>\n",
              "      <th>25%</th>\n",
              "      <th>50%</th>\n",
              "      <th>75%</th>\n",
              "      <th>max</th>\n",
              "    </tr>\n",
              "  </thead>\n",
              "  <tbody>\n",
              "    <tr>\n",
              "      <th>hotel</th>\n",
              "      <td>55491.0</td>\n",
              "      <td>0.388099</td>\n",
              "      <td>0.487322</td>\n",
              "      <td>0.000000</td>\n",
              "      <td>0.000000</td>\n",
              "      <td>0.0</td>\n",
              "      <td>1.000000</td>\n",
              "      <td>1.000000</td>\n",
              "    </tr>\n",
              "    <tr>\n",
              "      <th>arrival_date_month</th>\n",
              "      <td>55491.0</td>\n",
              "      <td>0.040709</td>\n",
              "      <td>0.579211</td>\n",
              "      <td>-0.833333</td>\n",
              "      <td>-0.500000</td>\n",
              "      <td>0.0</td>\n",
              "      <td>0.500000</td>\n",
              "      <td>1.000000</td>\n",
              "    </tr>\n",
              "    <tr>\n",
              "      <th>stays_in_weekend_nights</th>\n",
              "      <td>55491.0</td>\n",
              "      <td>0.028365</td>\n",
              "      <td>0.503884</td>\n",
              "      <td>-0.500000</td>\n",
              "      <td>-0.500000</td>\n",
              "      <td>0.0</td>\n",
              "      <td>0.500000</td>\n",
              "      <td>2.000000</td>\n",
              "    </tr>\n",
              "    <tr>\n",
              "      <th>stays_in_week_nights</th>\n",
              "      <td>55491.0</td>\n",
              "      <td>0.224565</td>\n",
              "      <td>0.615770</td>\n",
              "      <td>-0.666667</td>\n",
              "      <td>-0.333333</td>\n",
              "      <td>0.0</td>\n",
              "      <td>0.666667</td>\n",
              "      <td>2.166667</td>\n",
              "    </tr>\n",
              "    <tr>\n",
              "      <th>adults</th>\n",
              "      <td>55491.0</td>\n",
              "      <td>-0.167397</td>\n",
              "      <td>0.373333</td>\n",
              "      <td>-1.000000</td>\n",
              "      <td>0.000000</td>\n",
              "      <td>0.0</td>\n",
              "      <td>0.000000</td>\n",
              "      <td>0.000000</td>\n",
              "    </tr>\n",
              "    <tr>\n",
              "      <th>children</th>\n",
              "      <td>55491.0</td>\n",
              "      <td>0.000000</td>\n",
              "      <td>0.000000</td>\n",
              "      <td>0.000000</td>\n",
              "      <td>0.000000</td>\n",
              "      <td>0.0</td>\n",
              "      <td>0.000000</td>\n",
              "      <td>0.000000</td>\n",
              "    </tr>\n",
              "    <tr>\n",
              "      <th>babies</th>\n",
              "      <td>55491.0</td>\n",
              "      <td>0.000000</td>\n",
              "      <td>0.000000</td>\n",
              "      <td>0.000000</td>\n",
              "      <td>0.000000</td>\n",
              "      <td>0.0</td>\n",
              "      <td>0.000000</td>\n",
              "      <td>0.000000</td>\n",
              "    </tr>\n",
              "    <tr>\n",
              "      <th>meal</th>\n",
              "      <td>55491.0</td>\n",
              "      <td>0.000000</td>\n",
              "      <td>0.000000</td>\n",
              "      <td>0.000000</td>\n",
              "      <td>0.000000</td>\n",
              "      <td>0.0</td>\n",
              "      <td>0.000000</td>\n",
              "      <td>0.000000</td>\n",
              "    </tr>\n",
              "    <tr>\n",
              "      <th>country</th>\n",
              "      <td>55491.0</td>\n",
              "      <td>0.086817</td>\n",
              "      <td>0.414888</td>\n",
              "      <td>-0.391127</td>\n",
              "      <td>-0.288720</td>\n",
              "      <td>0.0</td>\n",
              "      <td>0.711280</td>\n",
              "      <td>0.711280</td>\n",
              "    </tr>\n",
              "    <tr>\n",
              "      <th>market_segment</th>\n",
              "      <td>55491.0</td>\n",
              "      <td>-0.830982</td>\n",
              "      <td>1.282004</td>\n",
              "      <td>-6.000000</td>\n",
              "      <td>-1.000000</td>\n",
              "      <td>0.0</td>\n",
              "      <td>0.000000</td>\n",
              "      <td>1.000000</td>\n",
              "    </tr>\n",
              "    <tr>\n",
              "      <th>reserved_room_type</th>\n",
              "      <td>55491.0</td>\n",
              "      <td>0.462492</td>\n",
              "      <td>0.628876</td>\n",
              "      <td>0.000000</td>\n",
              "      <td>0.000000</td>\n",
              "      <td>0.0</td>\n",
              "      <td>1.000000</td>\n",
              "      <td>2.500000</td>\n",
              "    </tr>\n",
              "    <tr>\n",
              "      <th>customer_type</th>\n",
              "      <td>55491.0</td>\n",
              "      <td>-0.079779</td>\n",
              "      <td>0.382577</td>\n",
              "      <td>-2.000000</td>\n",
              "      <td>0.000000</td>\n",
              "      <td>0.0</td>\n",
              "      <td>0.000000</td>\n",
              "      <td>0.000000</td>\n",
              "    </tr>\n",
              "    <tr>\n",
              "      <th>adr</th>\n",
              "      <td>55491.0</td>\n",
              "      <td>0.137748</td>\n",
              "      <td>0.778976</td>\n",
              "      <td>-1.669836</td>\n",
              "      <td>-0.407541</td>\n",
              "      <td>0.0</td>\n",
              "      <td>0.592459</td>\n",
              "      <td>2.092459</td>\n",
              "    </tr>\n",
              "  </tbody>\n",
              "</table>\n",
              "</div>\n",
              "    <div class=\"colab-df-buttons\">\n",
              "\n",
              "  <div class=\"colab-df-container\">\n",
              "    <button class=\"colab-df-convert\" onclick=\"convertToInteractive('df-18bfe9c6-6c46-4fd1-acf8-e5f3b345c408')\"\n",
              "            title=\"Convert this dataframe to an interactive table.\"\n",
              "            style=\"display:none;\">\n",
              "\n",
              "  <svg xmlns=\"http://www.w3.org/2000/svg\" height=\"24px\" viewBox=\"0 -960 960 960\">\n",
              "    <path d=\"M120-120v-720h720v720H120Zm60-500h600v-160H180v160Zm220 220h160v-160H400v160Zm0 220h160v-160H400v160ZM180-400h160v-160H180v160Zm440 0h160v-160H620v160ZM180-180h160v-160H180v160Zm440 0h160v-160H620v160Z\"/>\n",
              "  </svg>\n",
              "    </button>\n",
              "\n",
              "  <style>\n",
              "    .colab-df-container {\n",
              "      display:flex;\n",
              "      gap: 12px;\n",
              "    }\n",
              "\n",
              "    .colab-df-convert {\n",
              "      background-color: #E8F0FE;\n",
              "      border: none;\n",
              "      border-radius: 50%;\n",
              "      cursor: pointer;\n",
              "      display: none;\n",
              "      fill: #1967D2;\n",
              "      height: 32px;\n",
              "      padding: 0 0 0 0;\n",
              "      width: 32px;\n",
              "    }\n",
              "\n",
              "    .colab-df-convert:hover {\n",
              "      background-color: #E2EBFA;\n",
              "      box-shadow: 0px 1px 2px rgba(60, 64, 67, 0.3), 0px 1px 3px 1px rgba(60, 64, 67, 0.15);\n",
              "      fill: #174EA6;\n",
              "    }\n",
              "\n",
              "    .colab-df-buttons div {\n",
              "      margin-bottom: 4px;\n",
              "    }\n",
              "\n",
              "    [theme=dark] .colab-df-convert {\n",
              "      background-color: #3B4455;\n",
              "      fill: #D2E3FC;\n",
              "    }\n",
              "\n",
              "    [theme=dark] .colab-df-convert:hover {\n",
              "      background-color: #434B5C;\n",
              "      box-shadow: 0px 1px 3px 1px rgba(0, 0, 0, 0.15);\n",
              "      filter: drop-shadow(0px 1px 2px rgba(0, 0, 0, 0.3));\n",
              "      fill: #FFFFFF;\n",
              "    }\n",
              "  </style>\n",
              "\n",
              "    <script>\n",
              "      const buttonEl =\n",
              "        document.querySelector('#df-18bfe9c6-6c46-4fd1-acf8-e5f3b345c408 button.colab-df-convert');\n",
              "      buttonEl.style.display =\n",
              "        google.colab.kernel.accessAllowed ? 'block' : 'none';\n",
              "\n",
              "      async function convertToInteractive(key) {\n",
              "        const element = document.querySelector('#df-18bfe9c6-6c46-4fd1-acf8-e5f3b345c408');\n",
              "        const dataTable =\n",
              "          await google.colab.kernel.invokeFunction('convertToInteractive',\n",
              "                                                    [key], {});\n",
              "        if (!dataTable) return;\n",
              "\n",
              "        const docLinkHtml = 'Like what you see? Visit the ' +\n",
              "          '<a target=\"_blank\" href=https://colab.research.google.com/notebooks/data_table.ipynb>data table notebook</a>'\n",
              "          + ' to learn more about interactive tables.';\n",
              "        element.innerHTML = '';\n",
              "        dataTable['output_type'] = 'display_data';\n",
              "        await google.colab.output.renderOutput(dataTable, element);\n",
              "        const docLink = document.createElement('div');\n",
              "        docLink.innerHTML = docLinkHtml;\n",
              "        element.appendChild(docLink);\n",
              "      }\n",
              "    </script>\n",
              "  </div>\n",
              "\n",
              "\n",
              "<div id=\"df-c6c61632-79dc-45a4-9008-168dbe53af4d\">\n",
              "  <button class=\"colab-df-quickchart\" onclick=\"quickchart('df-c6c61632-79dc-45a4-9008-168dbe53af4d')\"\n",
              "            title=\"Suggest charts\"\n",
              "            style=\"display:none;\">\n",
              "\n",
              "<svg xmlns=\"http://www.w3.org/2000/svg\" height=\"24px\"viewBox=\"0 0 24 24\"\n",
              "     width=\"24px\">\n",
              "    <g>\n",
              "        <path d=\"M19 3H5c-1.1 0-2 .9-2 2v14c0 1.1.9 2 2 2h14c1.1 0 2-.9 2-2V5c0-1.1-.9-2-2-2zM9 17H7v-7h2v7zm4 0h-2V7h2v10zm4 0h-2v-4h2v4z\"/>\n",
              "    </g>\n",
              "</svg>\n",
              "  </button>\n",
              "\n",
              "<style>\n",
              "  .colab-df-quickchart {\n",
              "      --bg-color: #E8F0FE;\n",
              "      --fill-color: #1967D2;\n",
              "      --hover-bg-color: #E2EBFA;\n",
              "      --hover-fill-color: #174EA6;\n",
              "      --disabled-fill-color: #AAA;\n",
              "      --disabled-bg-color: #DDD;\n",
              "  }\n",
              "\n",
              "  [theme=dark] .colab-df-quickchart {\n",
              "      --bg-color: #3B4455;\n",
              "      --fill-color: #D2E3FC;\n",
              "      --hover-bg-color: #434B5C;\n",
              "      --hover-fill-color: #FFFFFF;\n",
              "      --disabled-bg-color: #3B4455;\n",
              "      --disabled-fill-color: #666;\n",
              "  }\n",
              "\n",
              "  .colab-df-quickchart {\n",
              "    background-color: var(--bg-color);\n",
              "    border: none;\n",
              "    border-radius: 50%;\n",
              "    cursor: pointer;\n",
              "    display: none;\n",
              "    fill: var(--fill-color);\n",
              "    height: 32px;\n",
              "    padding: 0;\n",
              "    width: 32px;\n",
              "  }\n",
              "\n",
              "  .colab-df-quickchart:hover {\n",
              "    background-color: var(--hover-bg-color);\n",
              "    box-shadow: 0 1px 2px rgba(60, 64, 67, 0.3), 0 1px 3px 1px rgba(60, 64, 67, 0.15);\n",
              "    fill: var(--button-hover-fill-color);\n",
              "  }\n",
              "\n",
              "  .colab-df-quickchart-complete:disabled,\n",
              "  .colab-df-quickchart-complete:disabled:hover {\n",
              "    background-color: var(--disabled-bg-color);\n",
              "    fill: var(--disabled-fill-color);\n",
              "    box-shadow: none;\n",
              "  }\n",
              "\n",
              "  .colab-df-spinner {\n",
              "    border: 2px solid var(--fill-color);\n",
              "    border-color: transparent;\n",
              "    border-bottom-color: var(--fill-color);\n",
              "    animation:\n",
              "      spin 1s steps(1) infinite;\n",
              "  }\n",
              "\n",
              "  @keyframes spin {\n",
              "    0% {\n",
              "      border-color: transparent;\n",
              "      border-bottom-color: var(--fill-color);\n",
              "      border-left-color: var(--fill-color);\n",
              "    }\n",
              "    20% {\n",
              "      border-color: transparent;\n",
              "      border-left-color: var(--fill-color);\n",
              "      border-top-color: var(--fill-color);\n",
              "    }\n",
              "    30% {\n",
              "      border-color: transparent;\n",
              "      border-left-color: var(--fill-color);\n",
              "      border-top-color: var(--fill-color);\n",
              "      border-right-color: var(--fill-color);\n",
              "    }\n",
              "    40% {\n",
              "      border-color: transparent;\n",
              "      border-right-color: var(--fill-color);\n",
              "      border-top-color: var(--fill-color);\n",
              "    }\n",
              "    60% {\n",
              "      border-color: transparent;\n",
              "      border-right-color: var(--fill-color);\n",
              "    }\n",
              "    80% {\n",
              "      border-color: transparent;\n",
              "      border-right-color: var(--fill-color);\n",
              "      border-bottom-color: var(--fill-color);\n",
              "    }\n",
              "    90% {\n",
              "      border-color: transparent;\n",
              "      border-bottom-color: var(--fill-color);\n",
              "    }\n",
              "  }\n",
              "</style>\n",
              "\n",
              "  <script>\n",
              "    async function quickchart(key) {\n",
              "      const quickchartButtonEl =\n",
              "        document.querySelector('#' + key + ' button');\n",
              "      quickchartButtonEl.disabled = true;  // To prevent multiple clicks.\n",
              "      quickchartButtonEl.classList.add('colab-df-spinner');\n",
              "      try {\n",
              "        const charts = await google.colab.kernel.invokeFunction(\n",
              "            'suggestCharts', [key], {});\n",
              "      } catch (error) {\n",
              "        console.error('Error during call to suggestCharts:', error);\n",
              "      }\n",
              "      quickchartButtonEl.classList.remove('colab-df-spinner');\n",
              "      quickchartButtonEl.classList.add('colab-df-quickchart-complete');\n",
              "    }\n",
              "    (() => {\n",
              "      let quickchartButtonEl =\n",
              "        document.querySelector('#df-c6c61632-79dc-45a4-9008-168dbe53af4d button');\n",
              "      quickchartButtonEl.style.display =\n",
              "        google.colab.kernel.accessAllowed ? 'block' : 'none';\n",
              "    })();\n",
              "  </script>\n",
              "</div>\n",
              "\n",
              "    </div>\n",
              "  </div>\n"
            ],
            "application/vnd.google.colaboratory.intrinsic+json": {
              "type": "dataframe",
              "summary": "{\n  \"name\": \"df_train\",\n  \"rows\": 13,\n  \"fields\": [\n    {\n      \"column\": \"count\",\n      \"properties\": {\n        \"dtype\": \"number\",\n        \"std\": 0.0,\n        \"min\": 55491.0,\n        \"max\": 55491.0,\n        \"num_unique_values\": 1,\n        \"samples\": [\n          55491.0\n        ],\n        \"semantic_type\": \"\",\n        \"description\": \"\"\n      }\n    },\n    {\n      \"column\": \"mean\",\n      \"properties\": {\n        \"dtype\": \"number\",\n        \"std\": 0.31122633964652385,\n        \"min\": -0.8309816006199203,\n        \"max\": 0.46249241618760994,\n        \"num_unique_values\": 11,\n        \"samples\": [\n          0.0\n        ],\n        \"semantic_type\": \"\",\n        \"description\": \"\"\n      }\n    },\n    {\n      \"column\": \"std\",\n      \"properties\": {\n        \"dtype\": \"number\",\n        \"std\": 0.3532115456689001,\n        \"min\": 0.0,\n        \"max\": 1.2820044256904475,\n        \"num_unique_values\": 11,\n        \"samples\": [\n          0.0\n        ],\n        \"semantic_type\": \"\",\n        \"description\": \"\"\n      }\n    },\n    {\n      \"column\": \"min\",\n      \"properties\": {\n        \"dtype\": \"number\",\n        \"std\": 1.6382920430136019,\n        \"min\": -6.0,\n        \"max\": 0.0,\n        \"num_unique_values\": 9,\n        \"samples\": [\n          -2.0\n        ],\n        \"semantic_type\": \"\",\n        \"description\": \"\"\n      }\n    },\n    {\n      \"column\": \"25%\",\n      \"properties\": {\n        \"dtype\": \"number\",\n        \"std\": 0.31017818454555435,\n        \"min\": -1.0,\n        \"max\": 0.0,\n        \"num_unique_values\": 6,\n        \"samples\": [\n          0.0\n        ],\n        \"semantic_type\": \"\",\n        \"description\": \"\"\n      }\n    },\n    {\n      \"column\": \"50%\",\n      \"properties\": {\n        \"dtype\": \"number\",\n        \"std\": 0.0,\n        \"min\": 0.0,\n        \"max\": 0.0,\n        \"num_unique_values\": 1,\n        \"samples\": [\n          0.0\n        ],\n        \"semantic_type\": \"\",\n        \"description\": \"\"\n      }\n    },\n    {\n      \"column\": \"75%\",\n      \"properties\": {\n        \"dtype\": \"number\",\n        \"std\": 0.3980150372267784,\n        \"min\": 0.0,\n        \"max\": 1.0,\n        \"num_unique_values\": 6,\n        \"samples\": [\n          1.0\n        ],\n        \"semantic_type\": \"\",\n        \"description\": \"\"\n      }\n    },\n    {\n      \"column\": \"max\",\n      \"properties\": {\n        \"dtype\": \"number\",\n        \"std\": 0.9515935165440651,\n        \"min\": 0.0,\n        \"max\": 2.5,\n        \"num_unique_values\": 7,\n        \"samples\": [\n          1.0\n        ],\n        \"semantic_type\": \"\",\n        \"description\": \"\"\n      }\n    }\n  ]\n}"
            }
          },
          "metadata": {},
          "execution_count": 100
        }
      ]
    },
    {
      "cell_type": "markdown",
      "source": [
        "# Gaussian Mixture Model algorithm"
      ],
      "metadata": {
        "id": "Jc56e_pQnxIq"
      }
    },
    {
      "cell_type": "code",
      "source": [
        "from numpy import unique\n",
        "from numpy import where\n",
        "from matplotlib import pyplot\n",
        "from sklearn.datasets import make_classification\n",
        "from sklearn.mixture import GaussianMixture"
      ],
      "metadata": {
        "id": "jEApmAaqn1Dv"
      },
      "execution_count": 101,
      "outputs": []
    },
    {
      "cell_type": "code",
      "source": [
        "# create a copy of df_train to apply DBSCAN algorithm\n",
        "df_train_GMM = df_train.copy()"
      ],
      "metadata": {
        "id": "xMvutKRRoBGF"
      },
      "execution_count": 105,
      "outputs": []
    },
    {
      "cell_type": "code",
      "source": [
        "# Define the model\n",
        "gaussian_model = GaussianMixture(n_components=6)\n",
        "\n",
        "# Select numerical features for clustering\n",
        "selected_features = ['hotel', 'arrival_date_month', 'stays_in_weekend_nights', 'stays_in_week_nights',\n",
        "    'adults', 'children', 'babies', 'meal', 'country', 'market_segment',\n",
        "    'reserved_room_type','customer_type', 'adr']\n",
        "\n",
        "# Train the model on selected features\n",
        "gaussian_model.fit(df_train_GMM[selected_features])\n",
        "\n",
        "# Assign each data point to a cluster\n",
        "gaussian_result = gaussian_model.predict(df_train_GMM[selected_features])\n",
        "\n",
        "# Get all of the unique clusters\n",
        "gaussian_clusters = np.unique(gaussian_result)"
      ],
      "metadata": {
        "id": "w5J6lRjQokb4"
      },
      "execution_count": 106,
      "outputs": []
    },
    {
      "cell_type": "code",
      "source": [
        "# prompt: calculate silhouette and print\n",
        "\n",
        "silhouette_avg = silhouette_score(df_train_GMM, gaussian_result)\n",
        "print(\"The average silhouette_score is :\", silhouette_avg)\n"
      ],
      "metadata": {
        "colab": {
          "base_uri": "https://localhost:8080/"
        },
        "id": "ubnS4FMjoSmb",
        "outputId": "eae91ebb-00c5-4686-f630-51c55cad8376"
      },
      "execution_count": 107,
      "outputs": [
        {
          "output_type": "stream",
          "name": "stdout",
          "text": [
            "The average silhouette_score is : 0.10844882980088387\n"
          ]
        }
      ]
    },
    {
      "cell_type": "code",
      "source": [
        "from sklearn.cluster import DBSCAN"
      ],
      "metadata": {
        "id": "Pl0iMKhbOqhZ"
      },
      "execution_count": 52,
      "outputs": []
    },
    {
      "cell_type": "markdown",
      "source": [
        "# Apply K-Means algorithm"
      ],
      "metadata": {
        "id": "BOcbQ_y5YxXz"
      }
    },
    {
      "cell_type": "markdown",
      "source": [
        "KMeans clustering with 4 clusters"
      ],
      "metadata": {
        "id": "uNcVHzLczCmX"
      }
    },
    {
      "cell_type": "code",
      "source": [
        "# create a copy of df_train to apply K-Means algorithm\n",
        "df_train_kmeans = df_train[['hotel', 'arrival_date_month', 'adults', 'children', 'babies', 'meal', 'country', 'reserved_room_type', 'adr']]"
      ],
      "metadata": {
        "id": "UCe9xsziJdou"
      },
      "execution_count": 114,
      "outputs": []
    },
    {
      "cell_type": "code",
      "source": [
        "kmeans = KMeans(n_clusters=4)\n",
        "# Fit the model\n",
        "kmeans.fit(df_train_kmeans)\n",
        "# Predict the clusters\n",
        "labels = kmeans.predict(df_train_kmeans)\n",
        "# Assign the cluster labels to the original dataframe\n",
        "df_train_kmeans['Cluster'] = labels\n",
        "# Calculate the Silhouette Score"
      ],
      "metadata": {
        "colab": {
          "base_uri": "https://localhost:8080/"
        },
        "outputId": "65a91a83-c2df-4c5d-8904-cf57804d7d57",
        "id": "opXbFs1vJdov"
      },
      "execution_count": 115,
      "outputs": [
        {
          "output_type": "stream",
          "name": "stderr",
          "text": [
            "/usr/local/lib/python3.10/dist-packages/sklearn/cluster/_kmeans.py:870: FutureWarning: The default value of `n_init` will change from 10 to 'auto' in 1.4. Set the value of `n_init` explicitly to suppress the warning\n",
            "  warnings.warn(\n",
            "<ipython-input-115-6dbfa3022548>:7: SettingWithCopyWarning: \n",
            "A value is trying to be set on a copy of a slice from a DataFrame.\n",
            "Try using .loc[row_indexer,col_indexer] = value instead\n",
            "\n",
            "See the caveats in the documentation: https://pandas.pydata.org/pandas-docs/stable/user_guide/indexing.html#returning-a-view-versus-a-copy\n",
            "  df_train_kmeans['Cluster'] = labels\n"
          ]
        }
      ]
    },
    {
      "cell_type": "code",
      "source": [
        "pal = ['#FF76CE','#FDFFC2','#94FFD8','#A3D8FF','#FF8A08']\n",
        "plt.figure(figsize=(13,8))\n",
        "pl = sns.countplot(x=df_train_kmeans['Cluster'], palette= pal)\n",
        "pl.set_title('Distribution Of The Clusters')\n",
        "plt.show()"
      ],
      "metadata": {
        "colab": {
          "base_uri": "https://localhost:8080/",
          "height": 846
        },
        "id": "4K2ye5NcJdov",
        "outputId": "34810fad-9562-4a7b-b0cb-39bd543c9c34"
      },
      "execution_count": 116,
      "outputs": [
        {
          "output_type": "stream",
          "name": "stderr",
          "text": [
            "<ipython-input-116-c0bba32da97d>:3: FutureWarning: \n",
            "\n",
            "Passing `palette` without assigning `hue` is deprecated and will be removed in v0.14.0. Assign the `x` variable to `hue` and set `legend=False` for the same effect.\n",
            "\n",
            "  pl = sns.countplot(x=df_train_kmeans['Cluster'], palette= pal)\n",
            "<ipython-input-116-c0bba32da97d>:3: UserWarning: The palette list has more values (5) than needed (4), which may not be intended.\n",
            "  pl = sns.countplot(x=df_train_kmeans['Cluster'], palette= pal)\n"
          ]
        },
        {
          "output_type": "display_data",
          "data": {
            "text/plain": [
              "<Figure size 1300x800 with 1 Axes>"
            ],
            "image/png": "[encoded data removed]"
          },
          "metadata": {}
        }
      ]
    },
    {
      "cell_type": "code",
      "source": [
        "silhouette_avg = silhouette_score(df_train_kmeans, labels)\n",
        "print(f\"Mean Silhouette Score: {silhouette_avg:.2f}\")"
      ],
      "metadata": {
        "colab": {
          "base_uri": "https://localhost:8080/"
        },
        "outputId": "1f53adf5-3bb1-447e-8ca2-e22120527306",
        "id": "5cKYLLzHJdov"
      },
      "execution_count": 117,
      "outputs": [
        {
          "output_type": "stream",
          "name": "stdout",
          "text": [
            "Mean Silhouette Score: 0.38\n"
          ]
        }
      ]
    },
    {
      "cell_type": "markdown",
      "source": [
        "KMeans clustering with 7 cluster"
      ],
      "metadata": {
        "id": "c1844eKgJUkU"
      }
    },
    {
      "cell_type": "code",
      "source": [
        "# create a copy of df_train to apply K-Means algorithm\n",
        "df_train_kmeans = df_train.copy()"
      ],
      "metadata": {
        "id": "RfRZATZPvml4"
      },
      "execution_count": null,
      "outputs": []
    },
    {
      "cell_type": "code",
      "source": [
        "kmeans = KMeans(n_clusters=7)\n",
        "# Fit the model\n",
        "kmeans.fit(df_train_kmeans)\n",
        "# Predict the clusters\n",
        "labels = kmeans.predict(df_train_kmeans)\n",
        "# Assign the cluster labels to the original dataframe\n",
        "df_train_kmeans['Cluster'] = labels\n",
        "# Calculate the Silhouette Score"
      ],
      "metadata": {
        "colab": {
          "base_uri": "https://localhost:8080/"
        },
        "id": "cLDq3COovl9L",
        "outputId": "c4bd757f-90d0-46da-9cc5-3ae2f86b3600"
      },
      "execution_count": null,
      "outputs": [
        {
          "output_type": "stream",
          "name": "stderr",
          "text": [
            "/usr/local/lib/python3.10/dist-packages/sklearn/cluster/_kmeans.py:870: FutureWarning: The default value of `n_init` will change from 10 to 'auto' in 1.4. Set the value of `n_init` explicitly to suppress the warning\n",
            "  warnings.warn(\n"
          ]
        }
      ]
    },
    {
      "cell_type": "code",
      "source": [
        "pal = ['#FF76CE','#FDFFC2','#94FFD8','#A3D8FF','#FF8A08']\n",
        "plt.figure(figsize=(13,8))\n",
        "pl = sns.countplot(x=df_train_kmeans['Cluster'], palette= pal)\n",
        "pl.set_title('Distribution Of The Clusters')\n",
        "plt.show()"
      ],
      "metadata": {
        "colab": {
          "base_uri": "https://localhost:8080/",
          "height": 864
        },
        "id": "g7VQuqjVI_Pm",
        "outputId": "b46aa430-658c-46b3-9505-9a91222c2c21"
      },
      "execution_count": null,
      "outputs": [
        {
          "output_type": "stream",
          "name": "stderr",
          "text": [
            "<ipython-input-68-c0bba32da97d>:3: FutureWarning: \n",
            "\n",
            "Passing `palette` without assigning `hue` is deprecated and will be removed in v0.14.0. Assign the `x` variable to `hue` and set `legend=False` for the same effect.\n",
            "\n",
            "  pl = sns.countplot(x=df_train_kmeans['Cluster'], palette= pal)\n",
            "<ipython-input-68-c0bba32da97d>:3: UserWarning: \n",
            "The palette list has fewer values (5) than needed (7) and will cycle, which may produce an uninterpretable plot.\n",
            "  pl = sns.countplot(x=df_train_kmeans['Cluster'], palette= pal)\n"
          ]
        },
        {
          "output_type": "display_data",
          "data": {
            "text/plain": [
              "<Figure size 1300x800 with 1 Axes>"
            ],
            "image/png": "[encoded data removed]"
          },
          "metadata": {}
        }
      ]
    },
    {
      "cell_type": "code",
      "source": [
        "silhouette_avg = silhouette_score(df_train_kmeans, labels)\n",
        "print(f\"Mean Silhouette Score: {silhouette_avg:.2f}\")"
      ],
      "metadata": {
        "colab": {
          "base_uri": "https://localhost:8080/"
        },
        "id": "CaNUD8iEvxtK",
        "outputId": "34b6d77d-4b1d-4e82-cfad-0be3c25c69f3"
      },
      "execution_count": null,
      "outputs": [
        {
          "output_type": "stream",
          "name": "stdout",
          "text": [
            "Mean Silhouette Score: 0.29\n"
          ]
        }
      ]
    },
    {
      "cell_type": "markdown",
      "source": [
        "# Apply Mini-batch K-Means algorithm"
      ],
      "metadata": {
        "id": "sU06y8ztzQBH"
      }
    },
    {
      "cell_type": "markdown",
      "source": [
        "Mini-batch KMeans clustering with 4 clusters, batch size of 10"
      ],
      "metadata": {
        "id": "Ild7e7FE7Y5L"
      }
    },
    {
      "cell_type": "code",
      "source": [
        "from sklearn.cluster import MiniBatchKMeans"
      ],
      "metadata": {
        "id": "q_jADVhpzO5g"
      },
      "execution_count": 108,
      "outputs": []
    },
    {
      "cell_type": "code",
      "source": [
        "# create a copy of df_train to apply Mini-batch K-Means algorithm\n",
        "df_train_miniBatchKmeans = df_train[['hotel', 'arrival_date_month', 'adults', 'children', 'babies', 'meal', 'country', 'reserved_room_type', 'adr']]"
      ],
      "metadata": {
        "id": "uk3BqpPCzwsg"
      },
      "execution_count": 109,
      "outputs": []
    },
    {
      "cell_type": "code",
      "source": [
        "# Define the MiniBatchKMeans model with desired parameters\n",
        "minibatch_kmeans = MiniBatchKMeans(n_clusters=10, batch_size=10)"
      ],
      "metadata": {
        "id": "bZ4SQkus0AkB"
      },
      "execution_count": 110,
      "outputs": []
    },
    {
      "cell_type": "code",
      "source": [
        "# Fit the model\n",
        "minibatch_kmeans.fit(df_train_miniBatchKmeans)"
      ],
      "metadata": {
        "colab": {
          "base_uri": "https://localhost:8080/",
          "height": 131
        },
        "id": "VaE_F2Jl2SJq",
        "outputId": "cb5a864c-e08a-4773-8481-d07f305b7a44"
      },
      "execution_count": 111,
      "outputs": [
        {
          "output_type": "stream",
          "name": "stderr",
          "text": [
            "/usr/local/lib/python3.10/dist-packages/sklearn/cluster/_kmeans.py:870: FutureWarning: The default value of `n_init` will change from 3 to 'auto' in 1.4. Set the value of `n_init` explicitly to suppress the warning\n",
            "  warnings.warn(\n"
          ]
        },
        {
          "output_type": "execute_result",
          "data": {
            "text/plain": [
              "MiniBatchKMeans(batch_size=10, n_clusters=10)"
            ],
            "text/html": [
              "<style>#sk-container-id-3 {color: black;background-color: white;}#sk-container-id-3 pre{padding: 0;}#sk-container-id-3 div.sk-toggleable {background-color: white;}#sk-container-id-3 label.sk-toggleable__label {cursor: pointer;display: block;width: 100%;margin-bottom: 0;padding: 0.3em;box-sizing: border-box;text-align: center;}#sk-container-id-3 label.sk-toggleable__label-arrow:before {content: \"▸\";float: left;margin-right: 0.25em;color: #696969;}#sk-container-id-3 label.sk-toggleable__label-arrow:hover:before {color: black;}#sk-container-id-3 div.sk-estimator:hover label.sk-toggleable__label-arrow:before {color: black;}#sk-container-id-3 div.sk-toggleable__content {max-height: 0;max-width: 0;overflow: hidden;text-align: left;background-color: #f0f8ff;}#sk-container-id-3 div.sk-toggleable__content pre {margin: 0.2em;color: black;border-radius: 0.25em;background-color: #f0f8ff;}#sk-container-id-3 input.sk-toggleable__control:checked~div.sk-toggleable__content {max-height: 200px;max-width: 100%;overflow: auto;}#sk-container-id-3 input.sk-toggleable__control:checked~label.sk-toggleable__label-arrow:before {content: \"▾\";}#sk-container-id-3 div.sk-estimator input.sk-toggleable__control:checked~label.sk-toggleable__label {background-color: #d4ebff;}#sk-container-id-3 div.sk-label input.sk-toggleable__control:checked~label.sk-toggleable__label {background-color: #d4ebff;}#sk-container-id-3 input.sk-hidden--visually {border: 0;clip: rect(1px 1px 1px 1px);clip: rect(1px, 1px, 1px, 1px);height: 1px;margin: -1px;overflow: hidden;padding: 0;position: absolute;width: 1px;}#sk-container-id-3 div.sk-estimator {font-family: monospace;background-color: #f0f8ff;border: 1px dotted black;border-radius: 0.25em;box-sizing: border-box;margin-bottom: 0.5em;}#sk-container-id-3 div.sk-estimator:hover {background-color: #d4ebff;}#sk-container-id-3 div.sk-parallel-item::after {content: \"\";width: 100%;border-bottom: 1px solid gray;flex-grow: 1;}#sk-container-id-3 div.sk-label:hover label.sk-toggleable__label {background-color: #d4ebff;}#sk-container-id-3 div.sk-serial::before {content: \"\";position: absolute;border-left: 1px solid gray;box-sizing: border-box;top: 0;bottom: 0;left: 50%;z-index: 0;}#sk-container-id-3 div.sk-serial {display: flex;flex-direction: column;align-items: center;background-color: white;padding-right: 0.2em;padding-left: 0.2em;position: relative;}#sk-container-id-3 div.sk-item {position: relative;z-index: 1;}#sk-container-id-3 div.sk-parallel {display: flex;align-items: stretch;justify-content: center;background-color: white;position: relative;}#sk-container-id-3 div.sk-item::before, #sk-container-id-3 div.sk-parallel-item::before {content: \"\";position: absolute;border-left: 1px solid gray;box-sizing: border-box;top: 0;bottom: 0;left: 50%;z-index: -1;}#sk-container-id-3 div.sk-parallel-item {display: flex;flex-direction: column;z-index: 1;position: relative;background-color: white;}#sk-container-id-3 div.sk-parallel-item:first-child::after {align-self: flex-end;width: 50%;}#sk-container-id-3 div.sk-parallel-item:last-child::after {align-self: flex-start;width: 50%;}#sk-container-id-3 div.sk-parallel-item:only-child::after {width: 0;}#sk-container-id-3 div.sk-dashed-wrapped {border: 1px dashed gray;margin: 0 0.4em 0.5em 0.4em;box-sizing: border-box;padding-bottom: 0.4em;background-color: white;}#sk-container-id-3 div.sk-label label {font-family: monospace;font-weight: bold;display: inline-block;line-height: 1.2em;}#sk-container-id-3 div.sk-label-container {text-align: center;}#sk-container-id-3 div.sk-container {/* jupyter's `normalize.less` sets `[hidden] { display: none; }` but bootstrap.min.css set `[hidden] { display: none !important; }` so we also need the `!important` here to be able to override the default hidden behavior on the sphinx rendered scikit-learn.org. See: https://github.com/scikit-learn/scikit-learn/issues/21755 */display: inline-block !important;position: relative;}#sk-container-id-3 div.sk-text-repr-fallback {display: none;}</style><div id=\"sk-container-id-3\" class=\"sk-top-container\"><div class=\"sk-text-repr-fallback\"><pre>MiniBatchKMeans(batch_size=10, n_clusters=10)</pre><b>In a Jupyter environment, please rerun this cell to show the HTML representation or trust the notebook. <br />On GitHub, the HTML representation is unable to render, please try loading this page with nbviewer.org.</b></div><div class=\"sk-container\" hidden><div class=\"sk-item\"><div class=\"sk-estimator sk-toggleable\"><input class=\"sk-toggleable__control sk-hidden--visually\" id=\"sk-estimator-id-3\" type=\"checkbox\" checked><label for=\"sk-estimator-id-3\" class=\"sk-toggleable__label sk-toggleable__label-arrow\">MiniBatchKMeans</label><div class=\"sk-toggleable__content\"><pre>MiniBatchKMeans(batch_size=10, n_clusters=10)</pre></div></div></div></div></div>"
            ]
          },
          "metadata": {},
          "execution_count": 111
        }
      ]
    },
    {
      "cell_type": "code",
      "source": [
        "# Predict the clusters\n",
        "labels = minibatch_kmeans.predict(df_train_miniBatchKmeans)"
      ],
      "metadata": {
        "id": "uV0kj--G4Fha"
      },
      "execution_count": 112,
      "outputs": []
    },
    {
      "cell_type": "code",
      "source": [
        "# Assign the cluster labels to the original dataframe\n",
        "df_train_miniBatchKmeans['Cluster'] = labels"
      ],
      "metadata": {
        "id": "YDpsNQl52UyK"
      },
      "execution_count": 66,
      "outputs": []
    },
    {
      "cell_type": "code",
      "source": [
        "df_train_miniBatchKmeans.head(5)"
      ],
      "metadata": {
        "colab": {
          "base_uri": "https://localhost:8080/",
          "height": 226
        },
        "id": "vatIRvoF0iKc",
        "outputId": "e139ad24-01f7-4764-e805-f02b549137fc"
      },
      "execution_count": 67,
      "outputs": [
        {
          "output_type": "execute_result",
          "data": {
            "text/plain": [
              "   hotel  arrival_date_month  stays_in_weekend_nights  stays_in_week_nights  \\\n",
              "0    0.0            0.000000                      0.5             -0.333333   \n",
              "1    0.0           -0.666667                      0.0              0.333333   \n",
              "2    0.0           -0.833333                     -0.5              0.333333   \n",
              "3    1.0            0.500000                      0.5              1.000000   \n",
              "4    0.0            0.333333                      0.5              2.000000   \n",
              "\n",
              "   adults  children  babies  meal   country  market_segment  \\\n",
              "0     0.0       0.0     0.0   0.0  0.000000             0.0   \n",
              "1     0.0       0.0     0.0   0.0  0.088201            -1.0   \n",
              "2     0.0       0.0     0.0   0.0 -0.372045             0.0   \n",
              "3     0.0       0.0     0.0   0.0 -0.244567             0.0   \n",
              "4     0.0       0.0     0.0   0.0 -0.296194             0.0   \n",
              "\n",
              "   reserved_room_type  customer_type       adr  Cluster  \n",
              "0                 0.0            0.0  0.364590        3  \n",
              "1                 0.0            0.0 -0.262459        3  \n",
              "2                 0.0            0.0  0.231803        3  \n",
              "3                 0.0            0.0 -0.287377        2  \n",
              "4                 1.0            0.0 -0.311639        2  "
            ],
            "text/html": [
              "\n",
              "  <div id=\"df-28b47469-98a4-46d2-ae85-71e26523906a\" class=\"colab-df-container\">\n",
              "    <div>\n",
              "<style scoped>\n",
              "    .dataframe tbody tr th:only-of-type {\n",
              "        vertical-align: middle;\n",
              "    }\n",
              "\n",
              "    .dataframe tbody tr th {\n",
              "        vertical-align: top;\n",
              "    }\n",
              "\n",
              "    .dataframe thead th {\n",
              "        text-align: right;\n",
              "    }\n",
              "</style>\n",
              "<table border=\"1\" class=\"dataframe\">\n",
              "  <thead>\n",
              "    <tr style=\"text-align: right;\">\n",
              "      <th></th>\n",
              "      <th>hotel</th>\n",
              "      <th>arrival_date_month</th>\n",
              "      <th>stays_in_weekend_nights</th>\n",
              "      <th>stays_in_week_nights</th>\n",
              "      <th>adults</th>\n",
              "      <th>children</th>\n",
              "      <th>babies</th>\n",
              "      <th>meal</th>\n",
              "      <th>country</th>\n",
              "      <th>market_segment</th>\n",
              "      <th>reserved_room_type</th>\n",
              "      <th>customer_type</th>\n",
              "      <th>adr</th>\n",
              "      <th>Cluster</th>\n",
              "    </tr>\n",
              "  </thead>\n",
              "  <tbody>\n",
              "    <tr>\n",
              "      <th>0</th>\n",
              "      <td>0.0</td>\n",
              "      <td>0.000000</td>\n",
              "      <td>0.5</td>\n",
              "      <td>-0.333333</td>\n",
              "      <td>0.0</td>\n",
              "      <td>0.0</td>\n",
              "      <td>0.0</td>\n",
              "      <td>0.0</td>\n",
              "      <td>0.000000</td>\n",
              "      <td>0.0</td>\n",
              "      <td>0.0</td>\n",
              "      <td>0.0</td>\n",
              "      <td>0.364590</td>\n",
              "      <td>3</td>\n",
              "    </tr>\n",
              "    <tr>\n",
              "      <th>1</th>\n",
              "      <td>0.0</td>\n",
              "      <td>-0.666667</td>\n",
              "      <td>0.0</td>\n",
              "      <td>0.333333</td>\n",
              "      <td>0.0</td>\n",
              "      <td>0.0</td>\n",
              "      <td>0.0</td>\n",
              "      <td>0.0</td>\n",
              "      <td>0.088201</td>\n",
              "      <td>-1.0</td>\n",
              "      <td>0.0</td>\n",
              "      <td>0.0</td>\n",
              "      <td>-0.262459</td>\n",
              "      <td>3</td>\n",
              "    </tr>\n",
              "    <tr>\n",
              "      <th>2</th>\n",
              "      <td>0.0</td>\n",
              "      <td>-0.833333</td>\n",
              "      <td>-0.5</td>\n",
              "      <td>0.333333</td>\n",
              "      <td>0.0</td>\n",
              "      <td>0.0</td>\n",
              "      <td>0.0</td>\n",
              "      <td>0.0</td>\n",
              "      <td>-0.372045</td>\n",
              "      <td>0.0</td>\n",
              "      <td>0.0</td>\n",
              "      <td>0.0</td>\n",
              "      <td>0.231803</td>\n",
              "      <td>3</td>\n",
              "    </tr>\n",
              "    <tr>\n",
              "      <th>3</th>\n",
              "      <td>1.0</td>\n",
              "      <td>0.500000</td>\n",
              "      <td>0.5</td>\n",
              "      <td>1.000000</td>\n",
              "      <td>0.0</td>\n",
              "      <td>0.0</td>\n",
              "      <td>0.0</td>\n",
              "      <td>0.0</td>\n",
              "      <td>-0.244567</td>\n",
              "      <td>0.0</td>\n",
              "      <td>0.0</td>\n",
              "      <td>0.0</td>\n",
              "      <td>-0.287377</td>\n",
              "      <td>2</td>\n",
              "    </tr>\n",
              "    <tr>\n",
              "      <th>4</th>\n",
              "      <td>0.0</td>\n",
              "      <td>0.333333</td>\n",
              "      <td>0.5</td>\n",
              "      <td>2.000000</td>\n",
              "      <td>0.0</td>\n",
              "      <td>0.0</td>\n",
              "      <td>0.0</td>\n",
              "      <td>0.0</td>\n",
              "      <td>-0.296194</td>\n",
              "      <td>0.0</td>\n",
              "      <td>1.0</td>\n",
              "      <td>0.0</td>\n",
              "      <td>-0.311639</td>\n",
              "      <td>2</td>\n",
              "    </tr>\n",
              "  </tbody>\n",
              "</table>\n",
              "</div>\n",
              "    <div class=\"colab-df-buttons\">\n",
              "\n",
              "  <div class=\"colab-df-container\">\n",
              "    <button class=\"colab-df-convert\" onclick=\"convertToInteractive('df-28b47469-98a4-46d2-ae85-71e26523906a')\"\n",
              "            title=\"Convert this dataframe to an interactive table.\"\n",
              "            style=\"display:none;\">\n",
              "\n",
              "  <svg xmlns=\"http://www.w3.org/2000/svg\" height=\"24px\" viewBox=\"0 -960 960 960\">\n",
              "    <path d=\"M120-120v-720h720v720H120Zm60-500h600v-160H180v160Zm220 220h160v-160H400v160Zm0 220h160v-160H400v160ZM180-400h160v-160H180v160Zm440 0h160v-160H620v160ZM180-180h160v-160H180v160Zm440 0h160v-160H620v160Z\"/>\n",
              "  </svg>\n",
              "    </button>\n",
              "\n",
              "  <style>\n",
              "    .colab-df-container {\n",
              "      display:flex;\n",
              "      gap: 12px;\n",
              "    }\n",
              "\n",
              "    .colab-df-convert {\n",
              "      background-color: #E8F0FE;\n",
              "      border: none;\n",
              "      border-radius: 50%;\n",
              "      cursor: pointer;\n",
              "      display: none;\n",
              "      fill: #1967D2;\n",
              "      height: 32px;\n",
              "      padding: 0 0 0 0;\n",
              "      width: 32px;\n",
              "    }\n",
              "\n",
              "    .colab-df-convert:hover {\n",
              "      background-color: #E2EBFA;\n",
              "      box-shadow: 0px 1px 2px rgba(60, 64, 67, 0.3), 0px 1px 3px 1px rgba(60, 64, 67, 0.15);\n",
              "      fill: #174EA6;\n",
              "    }\n",
              "\n",
              "    .colab-df-buttons div {\n",
              "      margin-bottom: 4px;\n",
              "    }\n",
              "\n",
              "    [theme=dark] .colab-df-convert {\n",
              "      background-color: #3B4455;\n",
              "      fill: #D2E3FC;\n",
              "    }\n",
              "\n",
              "    [theme=dark] .colab-df-convert:hover {\n",
              "      background-color: #434B5C;\n",
              "      box-shadow: 0px 1px 3px 1px rgba(0, 0, 0, 0.15);\n",
              "      filter: drop-shadow(0px 1px 2px rgba(0, 0, 0, 0.3));\n",
              "      fill: #FFFFFF;\n",
              "    }\n",
              "  </style>\n",
              "\n",
              "    <script>\n",
              "      const buttonEl =\n",
              "        document.querySelector('#df-28b47469-98a4-46d2-ae85-71e26523906a button.colab-df-convert');\n",
              "      buttonEl.style.display =\n",
              "        google.colab.kernel.accessAllowed ? 'block' : 'none';\n",
              "\n",
              "      async function convertToInteractive(key) {\n",
              "        const element = document.querySelector('#df-28b47469-98a4-46d2-ae85-71e26523906a');\n",
              "        const dataTable =\n",
              "          await google.colab.kernel.invokeFunction('convertToInteractive',\n",
              "                                                    [key], {});\n",
              "        if (!dataTable) return;\n",
              "\n",
              "        const docLinkHtml = 'Like what you see? Visit the ' +\n",
              "          '<a target=\"_blank\" href=https://colab.research.google.com/notebooks/data_table.ipynb>data table notebook</a>'\n",
              "          + ' to learn more about interactive tables.';\n",
              "        element.innerHTML = '';\n",
              "        dataTable['output_type'] = 'display_data';\n",
              "        await google.colab.output.renderOutput(dataTable, element);\n",
              "        const docLink = document.createElement('div');\n",
              "        docLink.innerHTML = docLinkHtml;\n",
              "        element.appendChild(docLink);\n",
              "      }\n",
              "    </script>\n",
              "  </div>\n",
              "\n",
              "\n",
              "<div id=\"df-4bc5d3b7-103c-4ffd-b340-cebc355bf1ec\">\n",
              "  <button class=\"colab-df-quickchart\" onclick=\"quickchart('df-4bc5d3b7-103c-4ffd-b340-cebc355bf1ec')\"\n",
              "            title=\"Suggest charts\"\n",
              "            style=\"display:none;\">\n",
              "\n",
              "<svg xmlns=\"http://www.w3.org/2000/svg\" height=\"24px\"viewBox=\"0 0 24 24\"\n",
              "     width=\"24px\">\n",
              "    <g>\n",
              "        <path d=\"M19 3H5c-1.1 0-2 .9-2 2v14c0 1.1.9 2 2 2h14c1.1 0 2-.9 2-2V5c0-1.1-.9-2-2-2zM9 17H7v-7h2v7zm4 0h-2V7h2v10zm4 0h-2v-4h2v4z\"/>\n",
              "    </g>\n",
              "</svg>\n",
              "  </button>\n",
              "\n",
              "<style>\n",
              "  .colab-df-quickchart {\n",
              "      --bg-color: #E8F0FE;\n",
              "      --fill-color: #1967D2;\n",
              "      --hover-bg-color: #E2EBFA;\n",
              "      --hover-fill-color: #174EA6;\n",
              "      --disabled-fill-color: #AAA;\n",
              "      --disabled-bg-color: #DDD;\n",
              "  }\n",
              "\n",
              "  [theme=dark] .colab-df-quickchart {\n",
              "      --bg-color: #3B4455;\n",
              "      --fill-color: #D2E3FC;\n",
              "      --hover-bg-color: #434B5C;\n",
              "      --hover-fill-color: #FFFFFF;\n",
              "      --disabled-bg-color: #3B4455;\n",
              "      --disabled-fill-color: #666;\n",
              "  }\n",
              "\n",
              "  .colab-df-quickchart {\n",
              "    background-color: var(--bg-color);\n",
              "    border: none;\n",
              "    border-radius: 50%;\n",
              "    cursor: pointer;\n",
              "    display: none;\n",
              "    fill: var(--fill-color);\n",
              "    height: 32px;\n",
              "    padding: 0;\n",
              "    width: 32px;\n",
              "  }\n",
              "\n",
              "  .colab-df-quickchart:hover {\n",
              "    background-color: var(--hover-bg-color);\n",
              "    box-shadow: 0 1px 2px rgba(60, 64, 67, 0.3), 0 1px 3px 1px rgba(60, 64, 67, 0.15);\n",
              "    fill: var(--button-hover-fill-color);\n",
              "  }\n",
              "\n",
              "  .colab-df-quickchart-complete:disabled,\n",
              "  .colab-df-quickchart-complete:disabled:hover {\n",
              "    background-color: var(--disabled-bg-color);\n",
              "    fill: var(--disabled-fill-color);\n",
              "    box-shadow: none;\n",
              "  }\n",
              "\n",
              "  .colab-df-spinner {\n",
              "    border: 2px solid var(--fill-color);\n",
              "    border-color: transparent;\n",
              "    border-bottom-color: var(--fill-color);\n",
              "    animation:\n",
              "      spin 1s steps(1) infinite;\n",
              "  }\n",
              "\n",
              "  @keyframes spin {\n",
              "    0% {\n",
              "      border-color: transparent;\n",
              "      border-bottom-color: var(--fill-color);\n",
              "      border-left-color: var(--fill-color);\n",
              "    }\n",
              "    20% {\n",
              "      border-color: transparent;\n",
              "      border-left-color: var(--fill-color);\n",
              "      border-top-color: var(--fill-color);\n",
              "    }\n",
              "    30% {\n",
              "      border-color: transparent;\n",
              "      border-left-color: var(--fill-color);\n",
              "      border-top-color: var(--fill-color);\n",
              "      border-right-color: var(--fill-color);\n",
              "    }\n",
              "    40% {\n",
              "      border-color: transparent;\n",
              "      border-right-color: var(--fill-color);\n",
              "      border-top-color: var(--fill-color);\n",
              "    }\n",
              "    60% {\n",
              "      border-color: transparent;\n",
              "      border-right-color: var(--fill-color);\n",
              "    }\n",
              "    80% {\n",
              "      border-color: transparent;\n",
              "      border-right-color: var(--fill-color);\n",
              "      border-bottom-color: var(--fill-color);\n",
              "    }\n",
              "    90% {\n",
              "      border-color: transparent;\n",
              "      border-bottom-color: var(--fill-color);\n",
              "    }\n",
              "  }\n",
              "</style>\n",
              "\n",
              "  <script>\n",
              "    async function quickchart(key) {\n",
              "      const quickchartButtonEl =\n",
              "        document.querySelector('#' + key + ' button');\n",
              "      quickchartButtonEl.disabled = true;  // To prevent multiple clicks.\n",
              "      quickchartButtonEl.classList.add('colab-df-spinner');\n",
              "      try {\n",
              "        const charts = await google.colab.kernel.invokeFunction(\n",
              "            'suggestCharts', [key], {});\n",
              "      } catch (error) {\n",
              "        console.error('Error during call to suggestCharts:', error);\n",
              "      }\n",
              "      quickchartButtonEl.classList.remove('colab-df-spinner');\n",
              "      quickchartButtonEl.classList.add('colab-df-quickchart-complete');\n",
              "    }\n",
              "    (() => {\n",
              "      let quickchartButtonEl =\n",
              "        document.querySelector('#df-4bc5d3b7-103c-4ffd-b340-cebc355bf1ec button');\n",
              "      quickchartButtonEl.style.display =\n",
              "        google.colab.kernel.accessAllowed ? 'block' : 'none';\n",
              "    })();\n",
              "  </script>\n",
              "</div>\n",
              "\n",
              "    </div>\n",
              "  </div>\n"
            ],
            "application/vnd.google.colaboratory.intrinsic+json": {
              "type": "dataframe",
              "variable_name": "df_train_miniBatchKmeans",
              "summary": "{\n  \"name\": \"df_train_miniBatchKmeans\",\n  \"rows\": 55491,\n  \"fields\": [\n    {\n      \"column\": \"hotel\",\n      \"properties\": {\n        \"dtype\": \"number\",\n        \"std\": 0.4873217000776541,\n        \"min\": 0.0,\n        \"max\": 1.0,\n        \"num_unique_values\": 2,\n        \"samples\": [\n          1.0,\n          0.0\n        ],\n        \"semantic_type\": \"\",\n        \"description\": \"\"\n      }\n    },\n    {\n      \"column\": \"arrival_date_month\",\n      \"properties\": {\n        \"dtype\": \"number\",\n        \"std\": 0.5792111456304988,\n        \"min\": -0.8333333333333334,\n        \"max\": 1.0,\n        \"num_unique_values\": 12,\n        \"samples\": [\n          -0.5,\n          -0.3333333333333333\n        ],\n        \"semantic_type\": \"\",\n        \"description\": \"\"\n      }\n    },\n    {\n      \"column\": \"stays_in_weekend_nights\",\n      \"properties\": {\n        \"dtype\": \"number\",\n        \"std\": 0.5038838802038537,\n        \"min\": -0.5,\n        \"max\": 2.0,\n        \"num_unique_values\": 6,\n        \"samples\": [\n          0.5,\n          0.0\n        ],\n        \"semantic_type\": \"\",\n        \"description\": \"\"\n      }\n    },\n    {\n      \"column\": \"stays_in_week_nights\",\n      \"properties\": {\n        \"dtype\": \"number\",\n        \"std\": 0.6157699313660089,\n        \"min\": -0.6666666666666666,\n        \"max\": 2.1666666666666665,\n        \"num_unique_values\": 10,\n        \"samples\": [\n          1.3333333333333333,\n          0.3333333333333333\n        ],\n        \"semantic_type\": \"\",\n        \"description\": \"\"\n      }\n    },\n    {\n      \"column\": \"adults\",\n      \"properties\": {\n        \"dtype\": \"number\",\n        \"std\": 0.37333287199502724,\n        \"min\": -1.0,\n        \"max\": 0.0,\n        \"num_unique_values\": 2,\n        \"samples\": [\n          -1.0,\n          0.0\n        ],\n        \"semantic_type\": \"\",\n        \"description\": \"\"\n      }\n    },\n    {\n      \"column\": \"children\",\n      \"properties\": {\n        \"dtype\": \"number\",\n        \"std\": 0.0,\n        \"min\": 0.0,\n        \"max\": 0.0,\n        \"num_unique_values\": 1,\n        \"samples\": [\n          0.0\n        ],\n        \"semantic_type\": \"\",\n        \"description\": \"\"\n      }\n    },\n    {\n      \"column\": \"babies\",\n      \"properties\": {\n        \"dtype\": \"number\",\n        \"std\": 0.0,\n        \"min\": 0.0,\n        \"max\": 0.0,\n        \"num_unique_values\": 1,\n        \"samples\": [\n          0.0\n        ],\n        \"semantic_type\": \"\",\n        \"description\": \"\"\n      }\n    },\n    {\n      \"column\": \"meal\",\n      \"properties\": {\n        \"dtype\": \"number\",\n        \"std\": 0.0,\n        \"min\": 0.0,\n        \"max\": 0.0,\n        \"num_unique_values\": 1,\n        \"samples\": [\n          0.0\n        ],\n        \"semantic_type\": \"\",\n        \"description\": \"\"\n      }\n    },\n    {\n      \"column\": \"country\",\n      \"properties\": {\n        \"dtype\": \"number\",\n        \"std\": 0.41488849718181803,\n        \"min\": -0.39112689494328423,\n        \"max\": 0.7112795505141525,\n        \"num_unique_values\": 81,\n        \"samples\": [\n          -0.3691826566309764\n        ],\n        \"semantic_type\": \"\",\n        \"description\": \"\"\n      }\n    },\n    {\n      \"column\": \"market_segment\",\n      \"properties\": {\n        \"dtype\": \"number\",\n        \"std\": 1.2820044256904475,\n        \"min\": -6.0,\n        \"max\": 1.0,\n        \"num_unique_values\": 8,\n        \"samples\": [\n          -1.0\n        ],\n        \"semantic_type\": \"\",\n        \"description\": \"\"\n      }\n    },\n    {\n      \"column\": \"reserved_room_type\",\n      \"properties\": {\n        \"dtype\": \"number\",\n        \"std\": 0.628875574001242,\n        \"min\": 0.0,\n        \"max\": 2.5,\n        \"num_unique_values\": 9,\n        \"samples\": [\n          2.0\n        ],\n        \"semantic_type\": \"\",\n        \"description\": \"\"\n      }\n    },\n    {\n      \"column\": \"customer_type\",\n      \"properties\": {\n        \"dtype\": \"number\",\n        \"std\": 0.38257739809587343,\n        \"min\": -2.0,\n        \"max\": 0.0,\n        \"num_unique_values\": 3,\n        \"samples\": [\n          0.0\n        ],\n        \"semantic_type\": \"\",\n        \"description\": \"\"\n      }\n    },\n    {\n      \"column\": \"adr\",\n      \"properties\": {\n        \"dtype\": \"number\",\n        \"std\": 0.7789762645206743,\n        \"min\": -1.6698360655737705,\n        \"max\": 2.0924590163934425,\n        \"num_unique_values\": 7098,\n        \"samples\": [\n          0.9968852459016392\n        ],\n        \"semantic_type\": \"\",\n        \"description\": \"\"\n      }\n    },\n    {\n      \"column\": \"Cluster\",\n      \"properties\": {\n        \"dtype\": \"int32\",\n        \"num_unique_values\": 4,\n        \"samples\": [\n          2\n        ],\n        \"semantic_type\": \"\",\n        \"description\": \"\"\n      }\n    }\n  ]\n}"
            }
          },
          "metadata": {},
          "execution_count": 67
        }
      ]
    },
    {
      "cell_type": "code",
      "source": [
        "# Group the data by 'Cluster' and calculate the mode for each group\n",
        "mode_per_cluster = df_train_miniBatchKmeans.groupby('Cluster').apply(lambda x: x.mode().iloc[0])\n",
        "\n",
        "# Reset index to make the cluster column a regular column instead of index\n",
        "mode_per_cluster.reset_index(drop=True, inplace=True)\n",
        "\n",
        "print(mode_per_cluster)"
      ],
      "metadata": {
        "colab": {
          "base_uri": "https://localhost:8080/"
        },
        "id": "kyUW6uoOBKKU",
        "outputId": "fde0dddd-0802-4266-a1cd-a3bb333f21cc"
      },
      "execution_count": null,
      "outputs": [
        {
          "output_type": "stream",
          "name": "stdout",
          "text": [
            "0  hotel  arrival_date_month  stays_in_weekend_nights  stays_in_week_nights  \\\n",
            "0    0.0            0.000000                      0.5              0.333333   \n",
            "1    0.0           -0.666667                     -0.5              0.000000   \n",
            "2    1.0           -0.666667                     -0.5             -0.333333   \n",
            "3    0.0            0.333333                     -0.5              0.000000   \n",
            "\n",
            "0  adults  children  babies  meal   country  market_segment  \\\n",
            "0     0.0       0.0     0.0   0.0  0.721797             0.0   \n",
            "1     0.0       0.0     0.0   0.0  0.721797             0.0   \n",
            "2     0.0       0.0     0.0   0.0  0.721797            -3.0   \n",
            "3     0.0       0.0     0.0   0.0  0.721797             0.0   \n",
            "\n",
            "0  distribution_channel  is_repeated_guest  reserved_room_type  \\\n",
            "0                   0.0                0.0                 0.0   \n",
            "1                   0.0                0.0                 1.0   \n",
            "2                  -2.0                0.0                 0.0   \n",
            "3                   0.0                0.0                 0.0   \n",
            "\n",
            "0  booking_changes  customer_type       adr  total_of_special_requests  \\\n",
            "0              0.0            0.0  0.662340                        1.0   \n",
            "1              0.0            0.0  2.115473                       -1.0   \n",
            "2              0.0            0.0 -0.086537                       -1.0   \n",
            "3              0.0            0.0 -0.086537                       -1.0   \n",
            "\n",
            "0  Cluster  \n",
            "0      0.0  \n",
            "1      1.0  \n",
            "2      2.0  \n",
            "3      3.0  \n"
          ]
        }
      ]
    },
    {
      "cell_type": "code",
      "source": [
        "reverse_scaled_data = mode_per_cluster.copy()"
      ],
      "metadata": {
        "id": "g3yXWV8fBvXM"
      },
      "execution_count": null,
      "outputs": []
    },
    {
      "cell_type": "code",
      "source": [
        "columns_to_reverse_scale = reverse_scaled_data.columns[:-1]"
      ],
      "metadata": {
        "id": "fYWaxHWmB8cQ"
      },
      "execution_count": null,
      "outputs": []
    },
    {
      "cell_type": "code",
      "source": [
        "# Reverse scaling for each column\n",
        "for column_idx, column in enumerate(columns_to_reverse_scale):\n",
        "    # Retrieve median and IQR values for the current column\n",
        "    median = scaler.center_[column_idx]\n",
        "    iqr = scaler.scale_[column_idx]\n",
        "\n",
        "    # Reverse scaling using median and IQR\n",
        "    reverse_scaled_data[column] = reverse_scaled_data[column] * iqr + median"
      ],
      "metadata": {
        "collapsed": true,
        "id": "OK0sbMChCGdU"
      },
      "execution_count": null,
      "outputs": []
    },
    {
      "cell_type": "code",
      "source": [
        "print(reverse_scaled_data.to_string(index=False))"
      ],
      "metadata": {
        "colab": {
          "base_uri": "https://localhost:8080/"
        },
        "id": "vSBOvNXwCsHU",
        "outputId": "58867d89-c6d3-4ba5-a66a-42c4eb97c5a9"
      },
      "execution_count": null,
      "outputs": [
        {
          "output_type": "stream",
          "name": "stdout",
          "text": [
            " hotel  arrival_date_month  stays_in_weekend_nights  stays_in_week_nights  adults  children  babies  meal  country  market_segment  distribution_channel  is_repeated_guest  reserved_room_type  booking_changes  customer_type       adr  total_of_special_requests  Cluster\n",
            "   0.0                 5.0                      2.0                   3.0     2.0       0.0     0.0   0.0  23594.0             6.0                   3.0                0.0                 0.0              0.0            2.0 140.00000                        2.0      0.0\n",
            "   0.0                 1.0                      0.0                   2.0     2.0       0.0     0.0   0.0  23594.0             6.0                   3.0                0.0                 3.0              0.0            2.0 227.31875                        0.0      1.0\n",
            "   1.0                 1.0                      0.0                   1.0     2.0       0.0     0.0   0.0  23594.0             3.0                   1.0                0.0                 0.0              0.0            2.0  95.00000                        0.0      2.0\n",
            "   0.0                 7.0                      0.0                   2.0     2.0       0.0     0.0   0.0  23594.0             6.0                   3.0                0.0                 0.0              0.0            2.0  95.00000                        0.0      3.0\n"
          ]
        }
      ]
    },
    {
      "cell_type": "code",
      "source": [
        "# Calculate the Silhouette Score\n",
        "silhouette_avg = silhouette_score(df_train_miniBatchKmeans, labels)\n",
        "print(f\"Mean Silhouette Score: {silhouette_avg:.2f}\")"
      ],
      "metadata": {
        "colab": {
          "base_uri": "https://localhost:8080/"
        },
        "id": "k2OzY2Xw0o3y",
        "outputId": "754d32fc-a811-41cc-bd49-64bb055fc37f"
      },
      "execution_count": 113,
      "outputs": [
        {
          "output_type": "stream",
          "name": "stdout",
          "text": [
            "Mean Silhouette Score: 0.23\n"
          ]
        }
      ]
    },
    {
      "cell_type": "markdown",
      "source": [
        "Mini Batch KMeans with 15 batch size and new method"
      ],
      "metadata": {
        "id": "bbQVCqy3OQ3_"
      }
    },
    {
      "cell_type": "code",
      "source": [
        "from sklearn.cluster import MiniBatchKMeans, KMeans\n",
        "\n",
        "from sklearn.metrics.pairwise import pairwise_distances_argmin\n",
        "from sklearn.datasets import make_blobs"
      ],
      "metadata": {
        "id": "WTE5BIQFOYQh"
      },
      "execution_count": 89,
      "outputs": []
    },
    {
      "cell_type": "code",
      "source": [
        "centers = df_train.copy()"
      ],
      "metadata": {
        "id": "kNOpPCNRObMN"
      },
      "execution_count": 98,
      "outputs": []
    },
    {
      "cell_type": "code",
      "source": [
        "kmeans = MiniBatchKMeans(n_clusters=4, random_state=0, batch_size=50)\n",
        "centers[\"Cluster\"] = kmeans.fit_predict(centers)\n",
        "centers[\"Cluster\"] = centers[\"Cluster\"].astype(\"int\")\n",
        "print(centers.head(10))"
      ],
      "metadata": {
        "colab": {
          "base_uri": "https://localhost:8080/"
        },
        "id": "EkbD6TEeOh-5",
        "outputId": "89b56192-2591-4441-cdc1-b5836ca38179"
      },
      "execution_count": 99,
      "outputs": [
        {
          "output_type": "stream",
          "name": "stderr",
          "text": [
            "/usr/local/lib/python3.10/dist-packages/sklearn/cluster/_kmeans.py:870: FutureWarning: The default value of `n_init` will change from 3 to 'auto' in 1.4. Set the value of `n_init` explicitly to suppress the warning\n",
            "  warnings.warn(\n"
          ]
        },
        {
          "output_type": "stream",
          "name": "stdout",
          "text": [
            "   hotel  arrival_date_month  stays_in_weekend_nights  stays_in_week_nights  \\\n",
            "0    0.0            0.000000                      0.5             -0.333333   \n",
            "1    0.0           -0.666667                      0.0              0.333333   \n",
            "2    0.0           -0.833333                     -0.5              0.333333   \n",
            "3    1.0            0.500000                      0.5              1.000000   \n",
            "4    0.0            0.333333                      0.5              2.000000   \n",
            "5    1.0            0.666667                      0.0              0.000000   \n",
            "6    0.0            0.333333                      0.5              0.333333   \n",
            "7    0.0            0.000000                      0.0              0.666667   \n",
            "8    0.0            0.166667                      0.5              1.000000   \n",
            "9    1.0            1.000000                     -0.5             -0.333333   \n",
            "\n",
            "   adults  children  babies  meal   country  market_segment  \\\n",
            "0     0.0       0.0     0.0   0.0  0.000000             0.0   \n",
            "1     0.0       0.0     0.0   0.0  0.088201            -1.0   \n",
            "2     0.0       0.0     0.0   0.0 -0.372045             0.0   \n",
            "3     0.0       0.0     0.0   0.0 -0.244567             0.0   \n",
            "4     0.0       0.0     0.0   0.0 -0.296194             0.0   \n",
            "5     0.0       0.0     0.0   0.0  0.088201             0.0   \n",
            "6     0.0       0.0     0.0   0.0  0.711280             0.0   \n",
            "7     0.0       0.0     0.0   0.0  0.088201             0.0   \n",
            "8     0.0       0.0     0.0   0.0 -0.143433             0.0   \n",
            "9     0.0       0.0     0.0   0.0  0.711280            -3.0   \n",
            "\n",
            "   reserved_room_type  customer_type       adr  Cluster  \n",
            "0                 0.0            0.0  0.364590        3  \n",
            "1                 0.0            0.0 -0.262459        3  \n",
            "2                 0.0            0.0  0.231803        3  \n",
            "3                 0.0            0.0 -0.287377        0  \n",
            "4                 1.0            0.0 -0.311639        0  \n",
            "5                 0.0            0.0 -1.066557        3  \n",
            "6                 0.0            0.0 -0.306721        3  \n",
            "7                 0.0            0.0 -0.112459        3  \n",
            "8                 0.0            0.0  0.669672        3  \n",
            "9                 0.0            0.0  1.248197        1  \n"
          ]
        }
      ]
    },
    {
      "cell_type": "code",
      "source": [
        "from sklearn.metrics import davies_bouldin_score\n",
        "\n",
        "db_index = davies_bouldin_score(centers, centers[\"Cluster\"])\n",
        "print(f'Davies-Bouldin Index: {db_index}')"
      ],
      "metadata": {
        "colab": {
          "base_uri": "https://localhost:8080/"
        },
        "id": "FXoCCOwlOoQ2",
        "outputId": "4c687cd6-8490-41f9-ed79-e739c7984ae8"
      },
      "execution_count": 102,
      "outputs": [
        {
          "output_type": "stream",
          "name": "stdout",
          "text": [
            "Davies-Bouldin Index: 1.2481874232350658\n"
          ]
        }
      ]
    },
    {
      "cell_type": "markdown",
      "source": [
        "# Apply hierarchical clustering"
      ],
      "metadata": {
        "id": "TSPE14mGKHNV"
      }
    },
    {
      "cell_type": "code",
      "source": [
        "# create a copy of df_train to apply hierarchical clustering\n",
        "df_train_hierarchical_clustering = df_train.copy()"
      ],
      "metadata": {
        "id": "KknQkbJqET7u"
      },
      "execution_count": null,
      "outputs": []
    },
    {
      "cell_type": "code",
      "source": [
        "# implemenet Hierarchical Clustering for df_train_hierarchical_clustering\n",
        "\n",
        "# Import necessary libraries\n",
        "import scipy.cluster.hierarchy as sch\n",
        "from sklearn.cluster import AgglomerativeClustering"
      ],
      "metadata": {
        "id": "mQAXIQITEtTY"
      },
      "execution_count": null,
      "outputs": []
    },
    {
      "cell_type": "code",
      "source": [
        "# Scale the data\n",
        "scaler = RobustScaler()\n",
        "df_train_hierarchical_clustering_scaled = scaler.fit_transform(df_train_hierarchical_clustering)"
      ],
      "metadata": {
        "id": "KzXHOC3VJlD6"
      },
      "execution_count": null,
      "outputs": []
    },
    {
      "cell_type": "code",
      "source": [
        "\n",
        "# Perform hierarchical clustering\n",
        "dendrogram = sch.dendrogram(sch.linkage(df_train_hierarchical_clustering_scaled, method='ward'))\n",
        "\n",
        "# Choose the number of clusters based on the dendrogram\n",
        "num_clusters = 4\n",
        "\n",
        "# Perform agglomerative clustering with the chosen number of clusters\n",
        "hc = AgglomerativeClustering(n_clusters=num_clusters, affinity='euclidean', linkage='ward')\n",
        "labels = hc.fit_predict(df_train_hierarchical_clustering_scaled)"
      ],
      "metadata": {
        "id": "5D6F4mrkJpxy"
      },
      "execution_count": null,
      "outputs": []
    },
    {
      "cell_type": "code",
      "source": [
        "# Assign cluster labels to the original dataframe\n",
        "df_train_hierarchical_clustering['Cluster'] = labels\n",
        "\n",
        "# Calculate the Silhouette Score\n",
        "silhouette_avg = silhouette_score(df_train_hierarchical_clustering, labels)\n",
        "print(f\"Mean Silhouette Score: {silhouette_avg:.2f}\")\n",
        "\n",
        "# Print the cluster centers\n",
        "cluster_centers = df_train_hierarchical_clustering.groupby('Cluster').mean()\n",
        "print(cluster_centers)"
      ],
      "metadata": {
        "id": "s2061c7_JvnL"
      },
      "execution_count": null,
      "outputs": []
    },
    {
      "cell_type": "markdown",
      "source": [
        "# Checking the actual data values"
      ],
      "metadata": {
        "id": "z85scvEND2F7"
      }
    },
    {
      "cell_type": "code",
      "source": [
        "Counter(hotel_bookings.hotel) #identify types of hotel present in the dataset."
      ],
      "metadata": {
        "id": "9uOxx58-Dzmg"
      },
      "execution_count": null,
      "outputs": []
    },
    {
      "cell_type": "markdown",
      "source": [
        "Create sample dataframe after encoding"
      ],
      "metadata": {
        "id": "8WIYz2UIF-7w"
      }
    },
    {
      "cell_type": "code",
      "source": [
        "column_names = [\n",
        "    'hotel', 'arrival_date_month', 'stays_in_weekend_nights', 'stays_in_week_nights',\n",
        "    'adults', 'children', 'babies', 'meal', 'country', 'market_segment',\n",
        "    'distribution_channel', 'is_repeated_guest', 'previous_cancellations', 'reserved_room_type', 'booking_changes',\n",
        "    'customer_type', 'adr', 'total_of_special_requests'\n",
        "]\n",
        "\n",
        "df_sample = pd.DataFrame(hotel_bookings_features, columns=column_names) # sample dataframe"
      ],
      "metadata": {
        "id": "E8XK0f7bGDkU"
      },
      "execution_count": null,
      "outputs": []
    },
    {
      "cell_type": "code",
      "source": [
        "Counter(df_sample.hotel) #identify types of hotel present in the dataset."
      ],
      "metadata": {
        "id": "0HQp3m83D7-B"
      },
      "execution_count": null,
      "outputs": []
    },
    {
      "cell_type": "code",
      "source": [
        "Counter(hotel_bookings.arrival_date_month) #identify types of arrival_date_month present in the dataset."
      ],
      "metadata": {
        "id": "EbLWGvN4Dzmh"
      },
      "execution_count": null,
      "outputs": []
    },
    {
      "cell_type": "code",
      "source": [
        "Counter(df_sample.arrival_date_month) #identify types of arrival_date_month present in the dataset."
      ],
      "metadata": {
        "id": "tC4JIM1YFPfq"
      },
      "execution_count": null,
      "outputs": []
    },
    {
      "cell_type": "code",
      "source": [
        "Counter(hotel_bookings.meal) #identify types of meal present in the dataset."
      ],
      "metadata": {
        "id": "bIN7lsvbDzmh"
      },
      "execution_count": null,
      "outputs": []
    },
    {
      "cell_type": "code",
      "source": [
        "Counter(df_sample.meal) #identify types of meal present in the dataset."
      ],
      "metadata": {
        "id": "OmTsyLrXGHPc"
      },
      "execution_count": null,
      "outputs": []
    },
    {
      "cell_type": "code",
      "source": [
        "Counter(hotel_bookings.country) #identify types of country present in the dataset."
      ],
      "metadata": {
        "id": "5G_NBOQNDzmh"
      },
      "execution_count": null,
      "outputs": []
    },
    {
      "cell_type": "code",
      "source": [
        "Counter(df_sample.country) #identify types of country present in the dataset."
      ],
      "metadata": {
        "id": "ZaUbDXWQGWAI"
      },
      "execution_count": null,
      "outputs": []
    },
    {
      "cell_type": "code",
      "source": [
        "Counter(hotel_bookings.market_segment) #identify types of market_segment present in the dataset."
      ],
      "metadata": {
        "id": "pFMlA3O8Dzmh"
      },
      "execution_count": null,
      "outputs": []
    },
    {
      "cell_type": "code",
      "source": [
        "Counter(df_sample.market_segment) #identify types of market_segment present in the dataset."
      ],
      "metadata": {
        "id": "EKGSITLFGe2O"
      },
      "execution_count": null,
      "outputs": []
    },
    {
      "cell_type": "code",
      "source": [
        "Counter(hotel_bookings.distribution_channel) #identify types of distribution_channel present in the dataset."
      ],
      "metadata": {
        "id": "P3eRNTjxDzmh"
      },
      "execution_count": null,
      "outputs": []
    },
    {
      "cell_type": "code",
      "source": [
        "Counter(df_sample.distribution_channel) #identify types of distribution_channel present in the dataset."
      ],
      "metadata": {
        "id": "MYazXScPG9eV"
      },
      "execution_count": null,
      "outputs": []
    },
    {
      "cell_type": "code",
      "source": [
        "Counter(hotel_bookings.reserved_room_type) #identify types of reserved_room_type present in the dataset."
      ],
      "metadata": {
        "id": "sPPxoLqrDzmh"
      },
      "execution_count": null,
      "outputs": []
    },
    {
      "cell_type": "code",
      "source": [
        "Counter(df_sample.reserved_room_type) #identify types of reserved_room_type present in the dataset."
      ],
      "metadata": {
        "id": "hCXf5pvRHUsf"
      },
      "execution_count": null,
      "outputs": []
    },
    {
      "cell_type": "code",
      "source": [
        "Counter(hotel_bookings.customer_type) #identify types of customer_type present in the dataset."
      ],
      "metadata": {
        "id": "d8kNTX7MDzmh"
      },
      "execution_count": null,
      "outputs": []
    },
    {
      "cell_type": "code",
      "source": [
        "Counter(df_sample.customer_type) #identify types of customer_type present in the dataset."
      ],
      "metadata": {
        "id": "1pwH2DAMHVfF"
      },
      "execution_count": null,
      "outputs": []
    }
  ]
}